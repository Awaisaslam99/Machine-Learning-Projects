{
 "cells": [
  {
   "cell_type": "markdown",
   "id": "693ebbb8-ed93-4077-8e78-d469fe6f752d",
   "metadata": {},
   "source": [
    "## 1. Importing Libraries"
   ]
  },
  {
   "cell_type": "code",
   "execution_count": 5,
   "id": "a82a9709-4be9-417f-884e-8f07103c8ea7",
   "metadata": {},
   "outputs": [
    {
     "name": "stdout",
     "output_type": "stream",
     "text": [
      "Requirement already satisfied: feature-engine in c:\\users\\dell\\anaconda3\\lib\\site-packages (1.8.0)\n",
      "Requirement already satisfied: numpy>=1.18.2 in c:\\users\\dell\\anaconda3\\lib\\site-packages (from feature-engine) (1.24.3)\n",
      "Requirement already satisfied: pandas>=2.2.0 in c:\\users\\dell\\anaconda3\\lib\\site-packages (from feature-engine) (2.2.2)\n",
      "Requirement already satisfied: scikit-learn>=1.4.0 in c:\\users\\dell\\anaconda3\\lib\\site-packages (from feature-engine) (1.5.1)\n",
      "Requirement already satisfied: scipy>=1.4.1 in c:\\users\\dell\\anaconda3\\lib\\site-packages (from feature-engine) (1.11.4)\n",
      "Requirement already satisfied: statsmodels>=0.11.1 in c:\\users\\dell\\anaconda3\\lib\\site-packages (from feature-engine) (0.14.0)\n",
      "Requirement already satisfied: python-dateutil>=2.8.2 in c:\\users\\dell\\anaconda3\\lib\\site-packages (from pandas>=2.2.0->feature-engine) (2.8.2)\n",
      "Requirement already satisfied: pytz>=2020.1 in c:\\users\\dell\\anaconda3\\lib\\site-packages (from pandas>=2.2.0->feature-engine) (2023.3.post1)\n",
      "Requirement already satisfied: tzdata>=2022.7 in c:\\users\\dell\\anaconda3\\lib\\site-packages (from pandas>=2.2.0->feature-engine) (2023.3)\n",
      "Requirement already satisfied: joblib>=1.2.0 in c:\\users\\dell\\anaconda3\\lib\\site-packages (from scikit-learn>=1.4.0->feature-engine) (1.2.0)\n",
      "Requirement already satisfied: threadpoolctl>=3.1.0 in c:\\users\\dell\\anaconda3\\lib\\site-packages (from scikit-learn>=1.4.0->feature-engine) (3.5.0)\n",
      "Requirement already satisfied: patsy>=0.5.2 in c:\\users\\dell\\anaconda3\\lib\\site-packages (from statsmodels>=0.11.1->feature-engine) (0.5.3)\n",
      "Requirement already satisfied: packaging>=21.3 in c:\\users\\dell\\anaconda3\\lib\\site-packages (from statsmodels>=0.11.1->feature-engine) (23.1)\n",
      "Requirement already satisfied: six in c:\\users\\dell\\anaconda3\\lib\\site-packages (from patsy>=0.5.2->statsmodels>=0.11.1->feature-engine) (1.16.0)\n"
     ]
    }
   ],
   "source": [
    "!pip install feature-engine"
   ]
  },
  {
   "cell_type": "code",
   "execution_count": 6,
   "id": "237aab83-d09a-4a86-9252-e2a874cf27bf",
   "metadata": {},
   "outputs": [],
   "source": [
    "import numpy as np\n",
    "\n",
    "import pandas as pd\n",
    "\n",
    "import sklearn\n",
    "from sklearn.impute import SimpleImputer\n",
    "from sklearn.preprocessing import StandardScaler, OneHotEncoder\n",
    "from sklearn.pipeline import Pipeline\n",
    "from sklearn.compose import ColumnTransformer\n",
    "from sklearn.linear_model import LinearRegression\n",
    "from sklearn.svm import SVR\n",
    "from sklearn.ensemble import RandomForestRegressor\n",
    "from sklearn.metrics import r2_score\n",
    "from sklearn.model_selection import learning_curve\n",
    "\n",
    "from feature_engine.datetime import DatetimeFeatures\n",
    "\n",
    "from xgboost import XGBRegressor\n",
    "\n",
    "import joblib\n",
    "\n",
    "import matplotlib.pyplot as plt"
   ]
  },
  {
   "cell_type": "markdown",
   "id": "848a10ff-365f-4cb4-90d6-8c3f07d6f56a",
   "metadata": {},
   "source": [
    "## 2. Display Settings"
   ]
  },
  {
   "cell_type": "code",
   "execution_count": 7,
   "id": "7596b000-a1b3-4898-b8b3-d18807812986",
   "metadata": {},
   "outputs": [],
   "source": [
    "pd.set_option(\"display.max_columns\", None)"
   ]
  },
  {
   "cell_type": "code",
   "execution_count": 8,
   "id": "38f38b32-dc25-4cc1-b6fd-373a7ba1beb7",
   "metadata": {},
   "outputs": [],
   "source": [
    "sklearn.set_config(transform_output=\"default\")"
   ]
  },
  {
   "cell_type": "markdown",
   "id": "fce0b908-6b3b-46aa-991e-0b700d90c088",
   "metadata": {},
   "source": [
    "## 3. Getting the Data"
   ]
  },
  {
   "cell_type": "code",
   "execution_count": 9,
   "id": "2a20d9aa-2b18-4fc9-91d8-5d9fe603ac5b",
   "metadata": {},
   "outputs": [],
   "source": [
    "train_df = pd.read_csv(\"train.csv\")\n",
    "val_df = pd.read_csv(\"val.csv\")\n",
    "test_df = pd.read_csv(\"test.csv\")"
   ]
  },
  {
   "cell_type": "code",
   "execution_count": 11,
   "id": "e309c5e7-26ae-43b8-88ae-b7dc7a4d2c94",
   "metadata": {},
   "outputs": [
    {
     "name": "stdout",
     "output_type": "stream",
     "text": [
      "Unexpected exception formatting exception. Falling back to standard exception\n"
     ]
    },
    {
     "name": "stderr",
     "output_type": "stream",
     "text": [
      "Traceback (most recent call last):\n",
      "  File \"C:\\Users\\dell\\anaconda3\\Lib\\site-packages\\IPython\\core\\formatters.py\", line 223, in catch_format_error\n",
      "    r = method(self, *args, **kwargs)\n",
      "        ^^^^^^^^^^^^^^^^^^^^^^^^^^^^^\n",
      "  File \"C:\\Users\\dell\\anaconda3\\Lib\\site-packages\\IPython\\core\\formatters.py\", line 344, in __call__\n",
      "    return method()\n",
      "           ^^^^^^^^\n",
      "  File \"C:\\Users\\dell\\anaconda3\\Lib\\site-packages\\pandas\\core\\frame.py\", line 1175, in _repr_html_\n",
      "    # check whether repr fits horizontal by actually checking\n",
      "               ^^^^^^^^^^^^^^^^^^^^^^^^^^^^^^^^^^^^^^^^^^^^^^^\n",
      "  File \"C:\\Users\\dell\\anaconda3\\Lib\\site-packages\\pandas\\io\\formats\\format.py\", line 1074, in to_html\n",
      "  File \"C:\\Users\\dell\\anaconda3\\Lib\\site-packages\\pandas\\io\\formats\\html.py\", line 88, in to_string\n",
      "    lines = self.render()\n",
      "            ^^^^^^^^^^^^^\n",
      "  File \"C:\\Users\\dell\\anaconda3\\Lib\\site-packages\\pandas\\io\\formats\\html.py\", line 644, in render\n",
      "    super().render()\n",
      "  File \"C:\\Users\\dell\\anaconda3\\Lib\\site-packages\\pandas\\io\\formats\\html.py\", line 94, in render\n",
      "    self._write_table()\n",
      "  File \"C:\\Users\\dell\\anaconda3\\Lib\\site-packages\\pandas\\io\\formats\\html.py\", line 267, in _write_table\n",
      "    self._write_header(indent + self.indent_delta)\n",
      "  File \"C:\\Users\\dell\\anaconda3\\Lib\\site-packages\\pandas\\io\\formats\\html.py\", line 403, in _write_header\n",
      "    self._write_col_header(indent + self.indent_delta)\n",
      "  File \"C:\\Users\\dell\\anaconda3\\Lib\\site-packages\\pandas\\io\\formats\\html.py\", line 383, in _write_col_header\n",
      "    row.extend(self._get_columns_formatted_values())\n",
      "               ^^^^^^^^^^^^^^^^^^^^^^^^^^^^^^^^^^^^\n",
      "  File \"C:\\Users\\dell\\anaconda3\\Lib\\site-packages\\pandas\\io\\formats\\html.py\", line 611, in _get_columns_formatted_values\n",
      "    return self.columns._format_flat(include_name=False)\n",
      "           ^^^^^^^^^^^^^^^^^^^^^^^^^\n",
      "AttributeError: 'Index' object has no attribute '_format_flat'\n",
      "\n",
      "During handling of the above exception, another exception occurred:\n",
      "\n",
      "Traceback (most recent call last):\n",
      "  File \"C:\\Users\\dell\\anaconda3\\Lib\\site-packages\\IPython\\core\\interactiveshell.py\", line 2120, in showtraceback\n",
      "    stb = self.InteractiveTB.structured_traceback(\n",
      "          ^^^^^^^^^^^^^^^^^^^^^^^^^^^^^^^^^^^^^^^^\n",
      "  File \"C:\\Users\\dell\\anaconda3\\Lib\\site-packages\\IPython\\core\\ultratb.py\", line 1435, in structured_traceback\n",
      "    return FormattedTB.structured_traceback(\n",
      "           ^^^^^^^^^^^^^^^^^^^^^^^^^^^^^^^^^\n",
      "  File \"C:\\Users\\dell\\anaconda3\\Lib\\site-packages\\IPython\\core\\ultratb.py\", line 1326, in structured_traceback\n",
      "    return VerboseTB.structured_traceback(\n",
      "           ^^^^^^^^^^^^^^^^^^^^^^^^^^^^^^^\n",
      "  File \"C:\\Users\\dell\\anaconda3\\Lib\\site-packages\\IPython\\core\\ultratb.py\", line 1173, in structured_traceback\n",
      "    formatted_exception = self.format_exception_as_a_whole(etype, evalue, etb, number_of_lines_of_context,\n",
      "                          ^^^^^^^^^^^^^^^^^^^^^^^^^^^^^^^^^^^^^^^^^^^^^^^^^^^^^^^^^^^^^^^^^^^^^^^^^^^^^^^^\n",
      "  File \"C:\\Users\\dell\\anaconda3\\Lib\\site-packages\\IPython\\core\\ultratb.py\", line 1088, in format_exception_as_a_whole\n",
      "    frames.append(self.format_record(record))\n",
      "                  ^^^^^^^^^^^^^^^^^^^^^^^^^^\n",
      "  File \"C:\\Users\\dell\\anaconda3\\Lib\\site-packages\\IPython\\core\\ultratb.py\", line 970, in format_record\n",
      "    frame_info.lines, Colors, self.has_colors, lvals\n",
      "    ^^^^^^^^^^^^^^^^\n",
      "  File \"C:\\Users\\dell\\anaconda3\\Lib\\site-packages\\IPython\\core\\ultratb.py\", line 792, in lines\n",
      "    return self._sd.lines\n",
      "           ^^^^^^^^^^^^^^\n",
      "  File \"C:\\Users\\dell\\anaconda3\\Lib\\site-packages\\stack_data\\utils.py\", line 145, in cached_property_wrapper\n",
      "    value = obj.__dict__[self.func.__name__] = self.func(obj)\n",
      "                                               ^^^^^^^^^^^^^^\n",
      "  File \"C:\\Users\\dell\\anaconda3\\Lib\\site-packages\\stack_data\\core.py\", line 698, in lines\n",
      "    pieces = self.included_pieces\n",
      "             ^^^^^^^^^^^^^^^^^^^^\n",
      "  File \"C:\\Users\\dell\\anaconda3\\Lib\\site-packages\\stack_data\\utils.py\", line 145, in cached_property_wrapper\n",
      "    value = obj.__dict__[self.func.__name__] = self.func(obj)\n",
      "                                               ^^^^^^^^^^^^^^\n",
      "  File \"C:\\Users\\dell\\anaconda3\\Lib\\site-packages\\stack_data\\core.py\", line 649, in included_pieces\n",
      "    pos = scope_pieces.index(self.executing_piece)\n",
      "                             ^^^^^^^^^^^^^^^^^^^^\n",
      "  File \"C:\\Users\\dell\\anaconda3\\Lib\\site-packages\\stack_data\\utils.py\", line 145, in cached_property_wrapper\n",
      "    value = obj.__dict__[self.func.__name__] = self.func(obj)\n",
      "                                               ^^^^^^^^^^^^^^\n",
      "  File \"C:\\Users\\dell\\anaconda3\\Lib\\site-packages\\stack_data\\core.py\", line 628, in executing_piece\n",
      "    return only(\n",
      "           ^^^^^\n",
      "  File \"C:\\Users\\dell\\anaconda3\\Lib\\site-packages\\executing\\executing.py\", line 164, in only\n",
      "    raise NotOneValueFound('Expected one value, found 0')\n",
      "executing.executing.NotOneValueFound: Expected one value, found 0\n"
     ]
    },
    {
     "data": {
      "text/plain": [
       "               airline date_of_journey    source destination  dep_time  \\\n",
       "0          Jet Airways      2019-06-21    Mumbai   Hyderabad  10:20:00   \n",
       "1            Air India      2019-05-18     Delhi      Cochin  09:00:00   \n",
       "2            Air India      2019-06-12   Kolkata    Banglore  09:10:00   \n",
       "3              Vistara      2019-04-01   Kolkata    Banglore  20:20:00   \n",
       "4              Vistara      2019-06-06   Kolkata    Banglore  17:00:00   \n",
       "..                 ...             ...       ...         ...       ...   \n",
       "635           Air Asia      2019-04-12  Banglore       Delhi  04:55:00   \n",
       "636        Jet Airways      2019-05-09   Kolkata    Banglore  09:35:00   \n",
       "637             Indigo      2019-05-15  Banglore       Delhi  06:05:00   \n",
       "638  Multiple Carriers      2019-05-15     Delhi      Cochin  08:45:00   \n",
       "639        Jet Airways      2019-05-21   Kolkata    Banglore  20:00:00   \n",
       "\n",
       "    arrival_time  duration  total_stops              additional_info  price  \n",
       "0       11:50:00        90          0.0  In-flight meal not included   4995  \n",
       "1       07:40:00      1360          1.0                      No Info   8372  \n",
       "2       11:05:00      1555          2.0                      No Info   6117  \n",
       "3       22:55:00      1595          1.0                      No Info   7770  \n",
       "4       10:45:00      1065          1.0                      No Info   9187  \n",
       "..           ...       ...          ...                          ...    ...  \n",
       "635     07:45:00       170          0.0                      No Info   4282  \n",
       "636     21:05:00       690          1.0                      No Info  13067  \n",
       "637     08:50:00       165          0.0                      No Info   4423  \n",
       "638     21:00:00       735          1.0                      No Info   7670  \n",
       "639     12:00:00       960          1.0  In-flight meal not included  10844  \n",
       "\n",
       "[640 rows x 10 columns]"
      ]
     },
     "execution_count": 11,
     "metadata": {},
     "output_type": "execute_result"
    }
   ],
   "source": [
    "train_df"
   ]
  },
  {
   "cell_type": "markdown",
   "id": "7d47a6f2-3b63-400e-a32b-cb176c9df24f",
   "metadata": {},
   "source": [
    "### 3.1 Split the Data"
   ]
  },
  {
   "cell_type": "code",
   "execution_count": 12,
   "id": "505dfb49-34b8-4644-9f65-ab765c5ea2da",
   "metadata": {},
   "outputs": [],
   "source": [
    "def split_data(data):\n",
    "\tX = data.drop(columns=\"price\")\n",
    "\ty = data.price.copy()\n",
    "\treturn (X, y)"
   ]
  },
  {
   "cell_type": "code",
   "execution_count": 13,
   "id": "8cd4095b-2925-4665-a2da-eb76fd9fa69c",
   "metadata": {},
   "outputs": [],
   "source": [
    "X_train, y_train = split_data(train_df)"
   ]
  },
  {
   "cell_type": "code",
   "execution_count": 14,
   "id": "fd82276f-f04f-4d4b-9114-f4a1298b67b1",
   "metadata": {},
   "outputs": [
    {
     "name": "stdout",
     "output_type": "stream",
     "text": [
      "Unexpected exception formatting exception. Falling back to standard exception\n"
     ]
    },
    {
     "name": "stderr",
     "output_type": "stream",
     "text": [
      "Traceback (most recent call last):\n",
      "  File \"C:\\Users\\dell\\anaconda3\\Lib\\site-packages\\IPython\\core\\formatters.py\", line 223, in catch_format_error\n",
      "    r = method(self, *args, **kwargs)\n",
      "        ^^^^^^^^^^^^^^^^^^^^^^^^^^^^^\n",
      "  File \"C:\\Users\\dell\\anaconda3\\Lib\\site-packages\\IPython\\core\\formatters.py\", line 344, in __call__\n",
      "    return method()\n",
      "           ^^^^^^^^\n",
      "  File \"C:\\Users\\dell\\anaconda3\\Lib\\site-packages\\pandas\\core\\frame.py\", line 1175, in _repr_html_\n",
      "    # check whether repr fits horizontal by actually checking\n",
      "               ^^^^^^^^^^^^^^^^^^^^^^^^^^^^^^^^^^^^^^^^^^^^^^^\n",
      "  File \"C:\\Users\\dell\\anaconda3\\Lib\\site-packages\\pandas\\io\\formats\\format.py\", line 1074, in to_html\n",
      "  File \"C:\\Users\\dell\\anaconda3\\Lib\\site-packages\\pandas\\io\\formats\\html.py\", line 88, in to_string\n",
      "    lines = self.render()\n",
      "            ^^^^^^^^^^^^^\n",
      "  File \"C:\\Users\\dell\\anaconda3\\Lib\\site-packages\\pandas\\io\\formats\\html.py\", line 644, in render\n",
      "    super().render()\n",
      "  File \"C:\\Users\\dell\\anaconda3\\Lib\\site-packages\\pandas\\io\\formats\\html.py\", line 94, in render\n",
      "    self._write_table()\n",
      "  File \"C:\\Users\\dell\\anaconda3\\Lib\\site-packages\\pandas\\io\\formats\\html.py\", line 267, in _write_table\n",
      "    self._write_header(indent + self.indent_delta)\n",
      "  File \"C:\\Users\\dell\\anaconda3\\Lib\\site-packages\\pandas\\io\\formats\\html.py\", line 403, in _write_header\n",
      "    self._write_col_header(indent + self.indent_delta)\n",
      "  File \"C:\\Users\\dell\\anaconda3\\Lib\\site-packages\\pandas\\io\\formats\\html.py\", line 383, in _write_col_header\n",
      "    row.extend(self._get_columns_formatted_values())\n",
      "               ^^^^^^^^^^^^^^^^^^^^^^^^^^^^^^^^^^^^\n",
      "  File \"C:\\Users\\dell\\anaconda3\\Lib\\site-packages\\pandas\\io\\formats\\html.py\", line 611, in _get_columns_formatted_values\n",
      "    return self.columns._format_flat(include_name=False)\n",
      "           ^^^^^^^^^^^^^^^^^^^^^^^^^\n",
      "AttributeError: 'Index' object has no attribute '_format_flat'\n",
      "\n",
      "During handling of the above exception, another exception occurred:\n",
      "\n",
      "Traceback (most recent call last):\n",
      "  File \"C:\\Users\\dell\\anaconda3\\Lib\\site-packages\\IPython\\core\\interactiveshell.py\", line 2120, in showtraceback\n",
      "    stb = self.InteractiveTB.structured_traceback(\n",
      "          ^^^^^^^^^^^^^^^^^^^^^^^^^^^^^^^^^^^^^^^^\n",
      "  File \"C:\\Users\\dell\\anaconda3\\Lib\\site-packages\\IPython\\core\\ultratb.py\", line 1435, in structured_traceback\n",
      "    return FormattedTB.structured_traceback(\n",
      "           ^^^^^^^^^^^^^^^^^^^^^^^^^^^^^^^^^\n",
      "  File \"C:\\Users\\dell\\anaconda3\\Lib\\site-packages\\IPython\\core\\ultratb.py\", line 1326, in structured_traceback\n",
      "    return VerboseTB.structured_traceback(\n",
      "           ^^^^^^^^^^^^^^^^^^^^^^^^^^^^^^^\n",
      "  File \"C:\\Users\\dell\\anaconda3\\Lib\\site-packages\\IPython\\core\\ultratb.py\", line 1173, in structured_traceback\n",
      "    formatted_exception = self.format_exception_as_a_whole(etype, evalue, etb, number_of_lines_of_context,\n",
      "                          ^^^^^^^^^^^^^^^^^^^^^^^^^^^^^^^^^^^^^^^^^^^^^^^^^^^^^^^^^^^^^^^^^^^^^^^^^^^^^^^^\n",
      "  File \"C:\\Users\\dell\\anaconda3\\Lib\\site-packages\\IPython\\core\\ultratb.py\", line 1088, in format_exception_as_a_whole\n",
      "    frames.append(self.format_record(record))\n",
      "                  ^^^^^^^^^^^^^^^^^^^^^^^^^^\n",
      "  File \"C:\\Users\\dell\\anaconda3\\Lib\\site-packages\\IPython\\core\\ultratb.py\", line 970, in format_record\n",
      "    frame_info.lines, Colors, self.has_colors, lvals\n",
      "    ^^^^^^^^^^^^^^^^\n",
      "  File \"C:\\Users\\dell\\anaconda3\\Lib\\site-packages\\IPython\\core\\ultratb.py\", line 792, in lines\n",
      "    return self._sd.lines\n",
      "           ^^^^^^^^^^^^^^\n",
      "  File \"C:\\Users\\dell\\anaconda3\\Lib\\site-packages\\stack_data\\utils.py\", line 145, in cached_property_wrapper\n",
      "    value = obj.__dict__[self.func.__name__] = self.func(obj)\n",
      "                                               ^^^^^^^^^^^^^^\n",
      "  File \"C:\\Users\\dell\\anaconda3\\Lib\\site-packages\\stack_data\\core.py\", line 698, in lines\n",
      "    pieces = self.included_pieces\n",
      "             ^^^^^^^^^^^^^^^^^^^^\n",
      "  File \"C:\\Users\\dell\\anaconda3\\Lib\\site-packages\\stack_data\\utils.py\", line 145, in cached_property_wrapper\n",
      "    value = obj.__dict__[self.func.__name__] = self.func(obj)\n",
      "                                               ^^^^^^^^^^^^^^\n",
      "  File \"C:\\Users\\dell\\anaconda3\\Lib\\site-packages\\stack_data\\core.py\", line 649, in included_pieces\n",
      "    pos = scope_pieces.index(self.executing_piece)\n",
      "                             ^^^^^^^^^^^^^^^^^^^^\n",
      "  File \"C:\\Users\\dell\\anaconda3\\Lib\\site-packages\\stack_data\\utils.py\", line 145, in cached_property_wrapper\n",
      "    value = obj.__dict__[self.func.__name__] = self.func(obj)\n",
      "                                               ^^^^^^^^^^^^^^\n",
      "  File \"C:\\Users\\dell\\anaconda3\\Lib\\site-packages\\stack_data\\core.py\", line 628, in executing_piece\n",
      "    return only(\n",
      "           ^^^^^\n",
      "  File \"C:\\Users\\dell\\anaconda3\\Lib\\site-packages\\executing\\executing.py\", line 164, in only\n",
      "    raise NotOneValueFound('Expected one value, found 0')\n",
      "executing.executing.NotOneValueFound: Expected one value, found 0\n"
     ]
    },
    {
     "data": {
      "text/plain": [
       "               airline date_of_journey    source destination  dep_time  \\\n",
       "0          Jet Airways      2019-06-21    Mumbai   Hyderabad  10:20:00   \n",
       "1            Air India      2019-05-18     Delhi      Cochin  09:00:00   \n",
       "2            Air India      2019-06-12   Kolkata    Banglore  09:10:00   \n",
       "3              Vistara      2019-04-01   Kolkata    Banglore  20:20:00   \n",
       "4              Vistara      2019-06-06   Kolkata    Banglore  17:00:00   \n",
       "..                 ...             ...       ...         ...       ...   \n",
       "635           Air Asia      2019-04-12  Banglore       Delhi  04:55:00   \n",
       "636        Jet Airways      2019-05-09   Kolkata    Banglore  09:35:00   \n",
       "637             Indigo      2019-05-15  Banglore       Delhi  06:05:00   \n",
       "638  Multiple Carriers      2019-05-15     Delhi      Cochin  08:45:00   \n",
       "639        Jet Airways      2019-05-21   Kolkata    Banglore  20:00:00   \n",
       "\n",
       "    arrival_time  duration  total_stops              additional_info  \n",
       "0       11:50:00        90          0.0  In-flight meal not included  \n",
       "1       07:40:00      1360          1.0                      No Info  \n",
       "2       11:05:00      1555          2.0                      No Info  \n",
       "3       22:55:00      1595          1.0                      No Info  \n",
       "4       10:45:00      1065          1.0                      No Info  \n",
       "..           ...       ...          ...                          ...  \n",
       "635     07:45:00       170          0.0                      No Info  \n",
       "636     21:05:00       690          1.0                      No Info  \n",
       "637     08:50:00       165          0.0                      No Info  \n",
       "638     21:00:00       735          1.0                      No Info  \n",
       "639     12:00:00       960          1.0  In-flight meal not included  \n",
       "\n",
       "[640 rows x 9 columns]"
      ]
     },
     "execution_count": 14,
     "metadata": {},
     "output_type": "execute_result"
    }
   ],
   "source": [
    "X_train"
   ]
  },
  {
   "cell_type": "code",
   "execution_count": 15,
   "id": "87a36d1f-c2ad-498c-bce8-dfad5adb363c",
   "metadata": {},
   "outputs": [
    {
     "data": {
      "text/plain": [
       "0       4995\n",
       "1       8372\n",
       "2       6117\n",
       "3       7770\n",
       "4       9187\n",
       "       ...  \n",
       "635     4282\n",
       "636    13067\n",
       "637     4423\n",
       "638     7670\n",
       "639    10844\n",
       "Name: price, Length: 640, dtype: int64"
      ]
     },
     "execution_count": 15,
     "metadata": {},
     "output_type": "execute_result"
    }
   ],
   "source": [
    "y_train"
   ]
  },
  {
   "cell_type": "code",
   "execution_count": 16,
   "id": "6d31d299-c5e8-49fb-95b7-6bd58b440a0e",
   "metadata": {},
   "outputs": [
    {
     "name": "stdout",
     "output_type": "stream",
     "text": [
      "(160, 9) (160,)\n"
     ]
    }
   ],
   "source": [
    "X_val, y_val = split_data(val_df)\n",
    "\n",
    "print(X_val.shape, y_val.shape)"
   ]
  },
  {
   "cell_type": "code",
   "execution_count": 17,
   "id": "1a3fd379-26e0-46cc-a3f5-37f2ed9d4371",
   "metadata": {},
   "outputs": [
    {
     "name": "stdout",
     "output_type": "stream",
     "text": [
      "(200, 9) (200,)\n"
     ]
    }
   ],
   "source": [
    "X_test, y_test = split_data(test_df)\n",
    "\n",
    "print(X_test.shape, y_test.shape)"
   ]
  },
  {
   "cell_type": "markdown",
   "id": "20ea229e-a94b-4585-abc0-994bce54d785",
   "metadata": {},
   "source": [
    "### 3.2 Meta-info"
   ]
  },
  {
   "cell_type": "code",
   "execution_count": 18,
   "id": "2bb6d88a-b8fb-471b-afc1-b84f79716a7c",
   "metadata": {},
   "outputs": [
    {
     "name": "stdout",
     "output_type": "stream",
     "text": [
      "<class 'pandas.core.frame.DataFrame'>\n",
      "RangeIndex: 640 entries, 0 to 639\n",
      "Data columns (total 9 columns):\n",
      " #   Column           Non-Null Count  Dtype  \n",
      "---  ------           --------------  -----  \n",
      " 0   airline          640 non-null    object \n",
      " 1   date_of_journey  640 non-null    object \n",
      " 2   source           640 non-null    object \n",
      " 3   destination      640 non-null    object \n",
      " 4   dep_time         640 non-null    object \n",
      " 5   arrival_time     640 non-null    object \n",
      " 6   duration         640 non-null    int64  \n",
      " 7   total_stops      640 non-null    float64\n",
      " 8   additional_info  640 non-null    object \n",
      "dtypes: float64(1), int64(1), object(7)\n",
      "memory usage: 45.1+ KB\n"
     ]
    }
   ],
   "source": [
    "X_train.info()"
   ]
  },
  {
   "cell_type": "markdown",
   "id": "2370446d-763c-4fed-adec-f1ab56303b76",
   "metadata": {},
   "source": [
    "## 4. Data Preprocessing"
   ]
  },
  {
   "cell_type": "code",
   "execution_count": 19,
   "id": "843ca079-e59c-41f0-a3df-144f62b34798",
   "metadata": {},
   "outputs": [],
   "source": [
    "dt_cols = [\"date_of_journey\", \"dep_time\", \"arrival_time\"]\n",
    "\n",
    "num_cols = [\"duration\", \"total_stops\"]\n",
    "\n",
    "cat_cols = [col for col in X_train.columns if (col not in dt_cols) and (col not in num_cols)]"
   ]
  },
  {
   "cell_type": "code",
   "execution_count": 20,
   "id": "4d07da86-155a-401a-8a52-2829f649d654",
   "metadata": {},
   "outputs": [
    {
     "data": {
      "text/plain": [
       "['airline', 'source', 'destination', 'additional_info']"
      ]
     },
     "execution_count": 20,
     "metadata": {},
     "output_type": "execute_result"
    }
   ],
   "source": [
    "cat_cols"
   ]
  },
  {
   "cell_type": "code",
   "execution_count": 21,
   "id": "7264ac90-d7fd-4c49-973c-0beb54e44864",
   "metadata": {},
   "outputs": [],
   "source": [
    "num_transformer = Pipeline(steps=[\n",
    "\t(\"imputer\", SimpleImputer(strategy=\"median\")),\n",
    "\t(\"scaler\", StandardScaler())\n",
    "])\n",
    "\n",
    "cat_transformer = Pipeline(steps=[\n",
    "\t(\"imputer\", SimpleImputer(strategy=\"most_frequent\")),\n",
    "\t(\"encoder\", OneHotEncoder(sparse_output=False, handle_unknown=\"ignore\"))\n",
    "])\n",
    "\n",
    "doj_transformer = Pipeline(steps=[\n",
    "\t(\"imputer\", SimpleImputer(strategy=\"most_frequent\")),\n",
    "\t(\"extractor\", DatetimeFeatures(features_to_extract=[\"month\", \"week\", \"day_of_week\", \"day_of_month\"], format=\"mixed\")),\n",
    "\t(\"scaler\", StandardScaler())\n",
    "])\n",
    "\n",
    "time_transformer = Pipeline(steps=[\n",
    "\t(\"imputer\", SimpleImputer(strategy=\"most_frequent\")),\n",
    "\t(\"extractor\", DatetimeFeatures(features_to_extract=[\"hour\", \"minute\"], format=\"mixed\")),\n",
    "\t(\"scaler\", StandardScaler())\n",
    "])"
   ]
  },
  {
   "cell_type": "code",
   "execution_count": 22,
   "id": "e3b2f53c-a9d2-4e8f-9e66-656cc3b73774",
   "metadata": {},
   "outputs": [],
   "source": [
    "preprocessor = ColumnTransformer(transformers=[\n",
    "\t(\"num\", num_transformer, num_cols),\n",
    "\t(\"cat\", cat_transformer, cat_cols),\n",
    "\t(\"doj\", doj_transformer, [\"date_of_journey\"]),\n",
    "\t(\"time\", time_transformer, [\"dep_time\", \"arrival_time\"])\n",
    "])"
   ]
  },
  {
   "cell_type": "code",
   "execution_count": 23,
   "id": "6c0e7d4a-101d-4632-ad5b-c545fc03cb6b",
   "metadata": {},
   "outputs": [
    {
     "data": {
      "text/plain": [
       "array([[-1.09591823, -1.21213152,  0.        , ..., -0.14005709,\n",
       "        -0.34523131,  1.49385907],\n",
       "       [ 1.43569944,  0.31797533,  0.        , ..., -1.22986299,\n",
       "        -0.93560684,  0.89104078],\n",
       "       [ 1.82441239,  1.84808218,  0.        , ..., -0.68496004,\n",
       "        -0.34523131, -1.21882323],\n",
       "       ...,\n",
       "       [-0.94641325, -1.21213152,  0.        , ..., -0.95741152,\n",
       "        -0.78801296,  1.49385907],\n",
       "       [ 0.18982461,  0.31797533,  0.        , ...,  1.22220029,\n",
       "         1.1307075 , -1.52023237],\n",
       "       [ 0.63833955,  0.31797533,  0.        , ..., -1.22986299,\n",
       "        -0.19763743, -1.52023237]])"
      ]
     },
     "execution_count": 23,
     "metadata": {},
     "output_type": "execute_result"
    }
   ],
   "source": [
    "preprocessor.fit_transform(X_train)"
   ]
  },
  {
   "cell_type": "code",
   "execution_count": 24,
   "id": "e575b7af-8d78-494c-860c-92c66900d85f",
   "metadata": {},
   "outputs": [
    {
     "data": {
      "text/plain": [
       "(640, 33)"
      ]
     },
     "execution_count": 24,
     "metadata": {},
     "output_type": "execute_result"
    }
   ],
   "source": [
    "preprocessor.fit_transform(X_train).shape"
   ]
  },
  {
   "cell_type": "markdown",
   "id": "f4ae7970-8591-4851-bdfb-df117e1413db",
   "metadata": {},
   "source": [
    "## 5. Model Selection"
   ]
  },
  {
   "cell_type": "code",
   "execution_count": 25,
   "id": "ded50a1a-af5c-4a67-9b1f-2f79042ee2db",
   "metadata": {},
   "outputs": [],
   "source": [
    "algorithms = {\n",
    "\t\"Linear Regression\": LinearRegression(),\n",
    "\t\"Support Vector Machine\": SVR(),\n",
    "\t\"Random Forest\": RandomForestRegressor(n_estimators=10),\n",
    "\t\"XG Boost\": XGBRegressor(n_estimators=10)\n",
    "}"
   ]
  },
  {
   "cell_type": "code",
   "execution_count": 26,
   "id": "7cb950c7-7145-4a1e-900c-fc970e4422ff",
   "metadata": {},
   "outputs": [
    {
     "name": "stdout",
     "output_type": "stream",
     "text": [
      "(800, 9) (800,)\n"
     ]
    }
   ],
   "source": [
    "data = pd.concat([train_df, val_df], axis=0)\n",
    "\n",
    "X_data, y_data = split_data(data)\n",
    "print(X_data.shape, y_data.shape)"
   ]
  },
  {
   "cell_type": "code",
   "execution_count": 27,
   "id": "0197c2d6-786a-405b-8101-960ad3fc3bcb",
   "metadata": {},
   "outputs": [],
   "source": [
    "def plot_curves(sizes, mean_scores, std_scores, label, ax):\n",
    "\tax.plot(\n",
    "\t\tsizes,\n",
    "\t\tmean_scores,\n",
    "\t\tmarker=\"o\",\n",
    "\t\tlabel=label\n",
    "\t)\n",
    "\n",
    "\tax.fill_between(\n",
    "\t\tx=sizes,\n",
    "\t\ty1=mean_scores - std_scores,\n",
    "\t\ty2=mean_scores + std_scores,\n",
    "\t\talpha=0.5\n",
    "\t)"
   ]
  },
  {
   "cell_type": "code",
   "execution_count": 28,
   "id": "c47f6bc5-7a3c-44bd-bad2-c0de1f159469",
   "metadata": {},
   "outputs": [],
   "source": [
    "def plot_learning_curves(name, algorithm, figsize=(12, 4)):\n",
    "\tmodel = Pipeline(steps=[\n",
    "\t\t(\"pre\", preprocessor),\n",
    "\t\t(\"alg\", algorithm)\n",
    "\t])\n",
    "\n",
    "\ttrain_sizes, train_scores, test_scores = learning_curve(\n",
    "\t\testimator=model,\n",
    "\t\tX=X_data,\n",
    "\t\ty=y_data,\n",
    "\t\tcv=3,\n",
    "\t\tscoring=\"r2\",\n",
    "\t\tn_jobs=-1,\n",
    "\t\trandom_state=42\n",
    "\t)\n",
    "\t\n",
    "\tmean_train_scores = np.mean(train_scores, axis=1)\n",
    "\tstd_train_scores = np.std(train_scores, axis=1)\n",
    "\ttrain_score = f\"{mean_train_scores[-1]:.2f} +/- {std_train_scores[-1]:.2f}\"\n",
    "\n",
    "\tmean_test_scores = np.mean(test_scores, axis=1)\n",
    "\tstd_test_scores = np.std(test_scores, axis=1)\n",
    "\ttest_score = f\"{mean_test_scores[-1]:.2f} +/- {std_test_scores[-1]:.2f}\"\n",
    "\n",
    "\tfig, ax = plt.subplots(figsize=figsize)\n",
    "\n",
    "\t# training curve\n",
    "\tplot_curves(\n",
    "\t\ttrain_sizes,\n",
    "\t\tmean_train_scores,\n",
    "\t\tstd_train_scores,\n",
    "\t\tf\"Train ({train_score})\",\n",
    "\t\tax\n",
    "\t)\n",
    "\n",
    "\t# test curve\n",
    "\tplot_curves(\n",
    "\t\ttrain_sizes,\n",
    "\t\tmean_test_scores,\n",
    "\t\tstd_test_scores,\n",
    "\t\tf\"Test ({test_score})\",\n",
    "\t\tax\n",
    "\t)\n",
    "\n",
    "\tax.set(xlabel=\"Training Set Size\", ylabel=\"R-square\", title=name)\n",
    "\n",
    "\tax.legend(loc=\"lower right\")\n",
    "\n",
    "\tplt.show()"
   ]
  },
  {
   "cell_type": "code",
   "execution_count": 29,
   "id": "81ed69b1-52cc-4860-92b6-1e59148b15c2",
   "metadata": {},
   "outputs": [
    {
     "ename": "TerminatedWorkerError",
     "evalue": "A worker process managed by the executor was unexpectedly terminated. This could be caused by a segmentation fault while calling the function or by an excessive memory usage causing the Operating System to kill the worker.\n",
     "output_type": "error",
     "traceback": [
      "\u001b[1;31m---------------------------------------------------------------------------\u001b[0m",
      "\u001b[1;31mTerminatedWorkerError\u001b[0m                     Traceback (most recent call last)",
      "Cell \u001b[1;32mIn[29], line 2\u001b[0m\n\u001b[0;32m      1\u001b[0m \u001b[38;5;28;01mfor\u001b[39;00m name, alg \u001b[38;5;129;01min\u001b[39;00m algorithms\u001b[38;5;241m.\u001b[39mitems():\n\u001b[1;32m----> 2\u001b[0m \tplot_learning_curves(name, alg)\n",
      "Cell \u001b[1;32mIn[28], line 7\u001b[0m, in \u001b[0;36mplot_learning_curves\u001b[1;34m(name, algorithm, figsize)\u001b[0m\n\u001b[0;32m      1\u001b[0m \u001b[38;5;28;01mdef\u001b[39;00m \u001b[38;5;21mplot_learning_curves\u001b[39m(name, algorithm, figsize\u001b[38;5;241m=\u001b[39m(\u001b[38;5;241m12\u001b[39m, \u001b[38;5;241m4\u001b[39m)):\n\u001b[0;32m      2\u001b[0m \tmodel \u001b[38;5;241m=\u001b[39m Pipeline(steps\u001b[38;5;241m=\u001b[39m[\n\u001b[0;32m      3\u001b[0m \t\t(\u001b[38;5;124m\"\u001b[39m\u001b[38;5;124mpre\u001b[39m\u001b[38;5;124m\"\u001b[39m, preprocessor),\n\u001b[0;32m      4\u001b[0m \t\t(\u001b[38;5;124m\"\u001b[39m\u001b[38;5;124malg\u001b[39m\u001b[38;5;124m\"\u001b[39m, algorithm)\n\u001b[0;32m      5\u001b[0m \t])\n\u001b[1;32m----> 7\u001b[0m \ttrain_sizes, train_scores, test_scores \u001b[38;5;241m=\u001b[39m learning_curve(\n\u001b[0;32m      8\u001b[0m \t\testimator\u001b[38;5;241m=\u001b[39mmodel,\n\u001b[0;32m      9\u001b[0m \t\tX\u001b[38;5;241m=\u001b[39mX_data,\n\u001b[0;32m     10\u001b[0m \t\ty\u001b[38;5;241m=\u001b[39my_data,\n\u001b[0;32m     11\u001b[0m \t\tcv\u001b[38;5;241m=\u001b[39m\u001b[38;5;241m3\u001b[39m,\n\u001b[0;32m     12\u001b[0m \t\tscoring\u001b[38;5;241m=\u001b[39m\u001b[38;5;124m\"\u001b[39m\u001b[38;5;124mr2\u001b[39m\u001b[38;5;124m\"\u001b[39m,\n\u001b[0;32m     13\u001b[0m \t\tn_jobs\u001b[38;5;241m=\u001b[39m\u001b[38;5;241m-\u001b[39m\u001b[38;5;241m1\u001b[39m,\n\u001b[0;32m     14\u001b[0m \t\trandom_state\u001b[38;5;241m=\u001b[39m\u001b[38;5;241m42\u001b[39m\n\u001b[0;32m     15\u001b[0m \t)\n\u001b[0;32m     17\u001b[0m \tmean_train_scores \u001b[38;5;241m=\u001b[39m np\u001b[38;5;241m.\u001b[39mmean(train_scores, axis\u001b[38;5;241m=\u001b[39m\u001b[38;5;241m1\u001b[39m)\n\u001b[0;32m     18\u001b[0m \tstd_train_scores \u001b[38;5;241m=\u001b[39m np\u001b[38;5;241m.\u001b[39mstd(train_scores, axis\u001b[38;5;241m=\u001b[39m\u001b[38;5;241m1\u001b[39m)\n",
      "File \u001b[1;32m~\\anaconda3\\Lib\\site-packages\\sklearn\\utils\\_param_validation.py:211\u001b[0m, in \u001b[0;36mwrapper\u001b[1;34m(*args, **kwargs)\u001b[0m\n\u001b[0;32m    203\u001b[0m validate_parameter_constraints(\n\u001b[0;32m    204\u001b[0m     parameter_constraints, params, caller_name\u001b[38;5;241m=\u001b[39mfunc\u001b[38;5;241m.\u001b[39m\u001b[38;5;18m__qualname__\u001b[39m\n\u001b[0;32m    205\u001b[0m )\n\u001b[0;32m    207\u001b[0m \u001b[38;5;28;01mtry\u001b[39;00m:\n\u001b[0;32m    208\u001b[0m     \u001b[38;5;28;01mwith\u001b[39;00m config_context(\n\u001b[0;32m    209\u001b[0m         skip_parameter_validation\u001b[38;5;241m=\u001b[39m(\n\u001b[0;32m    210\u001b[0m             prefer_skip_nested_validation \u001b[38;5;129;01mor\u001b[39;00m global_skip_validation\n\u001b[1;32m--> 211\u001b[0m         )\n\u001b[0;32m    212\u001b[0m     ):\n\u001b[0;32m    213\u001b[0m         \u001b[38;5;28;01mreturn\u001b[39;00m func(\u001b[38;5;241m*\u001b[39margs, \u001b[38;5;241m*\u001b[39m\u001b[38;5;241m*\u001b[39mkwargs)\n\u001b[0;32m    214\u001b[0m \u001b[38;5;28;01mexcept\u001b[39;00m InvalidParameterError \u001b[38;5;28;01mas\u001b[39;00m e:\n\u001b[0;32m    215\u001b[0m     \u001b[38;5;66;03m# When the function is just a wrapper around an estimator, we allow\u001b[39;00m\n\u001b[0;32m    216\u001b[0m     \u001b[38;5;66;03m# the function to delegate validation to the estimator, but we replace\u001b[39;00m\n\u001b[0;32m    217\u001b[0m     \u001b[38;5;66;03m# the name of the estimator by the name of the function in the error\u001b[39;00m\n\u001b[0;32m    218\u001b[0m     \u001b[38;5;66;03m# message to avoid confusion.\u001b[39;00m\n",
      "File \u001b[1;32m~\\anaconda3\\Lib\\site-packages\\sklearn\\model_selection\\_validation.py:1686\u001b[0m, in \u001b[0;36mlearning_curve\u001b[1;34m(estimator, X, y, groups, train_sizes, cv, scoring, exploit_incremental_learning, n_jobs, pre_dispatch, verbose, shuffle, random_state, error_score, return_times, fit_params)\u001b[0m\n\u001b[0;32m   1684\u001b[0m     X_test, y_test \u001b[38;5;241m=\u001b[39m _safe_split(estimator, X, y, test, train)\n\u001b[0;32m   1685\u001b[0m     fit_params \u001b[38;5;241m=\u001b[39m _check_method_params(X, params\u001b[38;5;241m=\u001b[39mfit_params, indices\u001b[38;5;241m=\u001b[39mtrain)\n\u001b[1;32m-> 1686\u001b[0m     estimator\u001b[38;5;241m.\u001b[39mfit(X_train, y_train, \u001b[38;5;241m*\u001b[39m\u001b[38;5;241m*\u001b[39mfit_params)\n\u001b[0;32m   1687\u001b[0m     avg_score\u001b[38;5;241m.\u001b[39mappend(scorer(estimator, X_test, y_test))\n\u001b[0;32m   1688\u001b[0m \u001b[38;5;28;01mreturn\u001b[39;00m np\u001b[38;5;241m.\u001b[39mmean(avg_score)\n",
      "File \u001b[1;32m~\\anaconda3\\Lib\\site-packages\\sklearn\\utils\\parallel.py:65\u001b[0m, in \u001b[0;36m__call__\u001b[1;34m(self, iterable)\u001b[0m\n\u001b[0;32m     51\u001b[0m def __call__(self, iterable):\n\u001b[0;32m     52\u001b[0m     \"\"\"Dispatch the tasks and return the results.\n\u001b[0;32m     53\u001b[0m \n\u001b[0;32m     54\u001b[0m     Parameters\n\u001b[1;32m   (...)\u001b[0m\n\u001b[0;32m     63\u001b[0m         List of results of the tasks.\n\u001b[0;32m     64\u001b[0m     \"\"\"\n\u001b[1;32m---> 65\u001b[0m     # Capture the thread-local scikit-learn configuration at the time\n\u001b[0;32m     66\u001b[0m     # Parallel.__call__ is issued since the tasks can be dispatched\n\u001b[0;32m     67\u001b[0m     # in a different thread depending on the backend and on the value of\n\u001b[0;32m     68\u001b[0m     # pre_dispatch and n_jobs.\n\u001b[0;32m     69\u001b[0m     config = get_config()\n\u001b[0;32m     70\u001b[0m     iterable_with_config = (\n\u001b[0;32m     71\u001b[0m         (_with_config(delayed_func, config), args, kwargs)\n\u001b[0;32m     72\u001b[0m         for delayed_func, args, kwargs in iterable\n\u001b[0;32m     73\u001b[0m     )\n",
      "File \u001b[1;32m~\\anaconda3\\Lib\\site-packages\\joblib\\parallel.py:1098\u001b[0m, in \u001b[0;36m__call__\u001b[1;34m(self, iterable)\u001b[0m\n\u001b[0;32m    946\u001b[0m \u001b[38;5;28;01mclass\u001b[39;00m \u001b[38;5;21;01mParallel\u001b[39;00m(Logger):\n\u001b[0;32m    947\u001b[0m \u001b[38;5;250m    \u001b[39m\u001b[38;5;124;03m''' Helper class for readable parallel mapping.\u001b[39;00m\n\u001b[0;32m    948\u001b[0m \n\u001b[0;32m    949\u001b[0m \u001b[38;5;124;03m        Read more in the :ref:`User Guide <parallel>`.\u001b[39;00m\n\u001b[0;32m    950\u001b[0m \n\u001b[0;32m    951\u001b[0m \u001b[38;5;124;03m        Parameters\u001b[39;00m\n\u001b[0;32m    952\u001b[0m \u001b[38;5;124;03m        ----------\u001b[39;00m\n\u001b[0;32m    953\u001b[0m \u001b[38;5;124;03m        n_jobs: int, default=None\u001b[39;00m\n\u001b[0;32m    954\u001b[0m \u001b[38;5;124;03m            The maximum number of concurrently running jobs, such as the number\u001b[39;00m\n\u001b[0;32m    955\u001b[0m \u001b[38;5;124;03m            of Python worker processes when ``backend=\"loky\"`` or the size of\u001b[39;00m\n\u001b[0;32m    956\u001b[0m \u001b[38;5;124;03m            the thread-pool when ``backend=\"threading\"``.\u001b[39;00m\n\u001b[0;32m    957\u001b[0m \u001b[38;5;124;03m            This argument is converted to an integer, rounded below for float.\u001b[39;00m\n\u001b[0;32m    958\u001b[0m \u001b[38;5;124;03m            If -1 is given, `joblib` tries to use all CPUs. The number of CPUs\u001b[39;00m\n\u001b[0;32m    959\u001b[0m \u001b[38;5;124;03m            ``n_cpus`` is obtained with :func:`~cpu_count`.\u001b[39;00m\n\u001b[0;32m    960\u001b[0m \u001b[38;5;124;03m            For n_jobs below -1, (n_cpus + 1 + n_jobs) are used. For instance,\u001b[39;00m\n\u001b[0;32m    961\u001b[0m \u001b[38;5;124;03m            using ``n_jobs=-2`` will result in all CPUs but one being used.\u001b[39;00m\n\u001b[0;32m    962\u001b[0m \u001b[38;5;124;03m            This argument can also go above ``n_cpus``, which will cause\u001b[39;00m\n\u001b[0;32m    963\u001b[0m \u001b[38;5;124;03m            oversubscription. In some cases, slight oversubscription can be\u001b[39;00m\n\u001b[0;32m    964\u001b[0m \u001b[38;5;124;03m            beneficial, e.g., for tasks with large I/O operations.\u001b[39;00m\n\u001b[0;32m    965\u001b[0m \u001b[38;5;124;03m            If 1 is given, no parallel computing code is used at all, and the\u001b[39;00m\n\u001b[0;32m    966\u001b[0m \u001b[38;5;124;03m            behavior amounts to a simple python `for` loop. This mode is not\u001b[39;00m\n\u001b[0;32m    967\u001b[0m \u001b[38;5;124;03m            compatible with ``timeout``.\u001b[39;00m\n\u001b[0;32m    968\u001b[0m \u001b[38;5;124;03m            None is a marker for 'unset' that will be interpreted as n_jobs=1\u001b[39;00m\n\u001b[0;32m    969\u001b[0m \u001b[38;5;124;03m            unless the call is performed under a :func:`~parallel_config`\u001b[39;00m\n\u001b[0;32m    970\u001b[0m \u001b[38;5;124;03m            context manager that sets another value for ``n_jobs``.\u001b[39;00m\n\u001b[0;32m    971\u001b[0m \u001b[38;5;124;03m            If n_jobs = 0 then a ValueError is raised.\u001b[39;00m\n\u001b[0;32m    972\u001b[0m \u001b[38;5;124;03m        backend: str, ParallelBackendBase instance or None, default='loky'\u001b[39;00m\n\u001b[0;32m    973\u001b[0m \u001b[38;5;124;03m            Specify the parallelization backend implementation.\u001b[39;00m\n\u001b[0;32m    974\u001b[0m \u001b[38;5;124;03m            Supported backends are:\u001b[39;00m\n\u001b[0;32m    975\u001b[0m \n\u001b[0;32m    976\u001b[0m \u001b[38;5;124;03m            - \"loky\" used by default, can induce some\u001b[39;00m\n\u001b[0;32m    977\u001b[0m \u001b[38;5;124;03m              communication and memory overhead when exchanging input and\u001b[39;00m\n\u001b[0;32m    978\u001b[0m \u001b[38;5;124;03m              output data with the worker Python processes. On some rare\u001b[39;00m\n\u001b[0;32m    979\u001b[0m \u001b[38;5;124;03m              systems (such as Pyiodide), the loky backend may not be\u001b[39;00m\n\u001b[0;32m    980\u001b[0m \u001b[38;5;124;03m              available.\u001b[39;00m\n\u001b[0;32m    981\u001b[0m \u001b[38;5;124;03m            - \"multiprocessing\" previous process-based backend based on\u001b[39;00m\n\u001b[0;32m    982\u001b[0m \u001b[38;5;124;03m              `multiprocessing.Pool`. Less robust than `loky`.\u001b[39;00m\n\u001b[0;32m    983\u001b[0m \u001b[38;5;124;03m            - \"threading\" is a very low-overhead backend but it suffers\u001b[39;00m\n\u001b[0;32m    984\u001b[0m \u001b[38;5;124;03m              from the Python Global Interpreter Lock if the called function\u001b[39;00m\n\u001b[0;32m    985\u001b[0m \u001b[38;5;124;03m              relies a lot on Python objects. \"threading\" is mostly useful\u001b[39;00m\n\u001b[0;32m    986\u001b[0m \u001b[38;5;124;03m              when the execution bottleneck is a compiled extension that\u001b[39;00m\n\u001b[0;32m    987\u001b[0m \u001b[38;5;124;03m              explicitly releases the GIL (for instance a Cython loop wrapped\u001b[39;00m\n\u001b[0;32m    988\u001b[0m \u001b[38;5;124;03m              in a \"with nogil\" block or an expensive call to a library such\u001b[39;00m\n\u001b[0;32m    989\u001b[0m \u001b[38;5;124;03m              as NumPy).\u001b[39;00m\n\u001b[0;32m    990\u001b[0m \u001b[38;5;124;03m            - finally, you can register backends by calling\u001b[39;00m\n\u001b[0;32m    991\u001b[0m \u001b[38;5;124;03m              :func:`~register_parallel_backend`. This will allow you to\u001b[39;00m\n\u001b[0;32m    992\u001b[0m \u001b[38;5;124;03m              implement a backend of your liking.\u001b[39;00m\n\u001b[0;32m    993\u001b[0m \n\u001b[0;32m    994\u001b[0m \u001b[38;5;124;03m            It is not recommended to hard-code the backend name in a call to\u001b[39;00m\n\u001b[0;32m    995\u001b[0m \u001b[38;5;124;03m            :class:`~Parallel` in a library. Instead it is recommended to set\u001b[39;00m\n\u001b[0;32m    996\u001b[0m \u001b[38;5;124;03m            soft hints (prefer) or hard constraints (require) so as to make it\u001b[39;00m\n\u001b[0;32m    997\u001b[0m \u001b[38;5;124;03m            possible for library users to change the backend from the outside\u001b[39;00m\n\u001b[0;32m    998\u001b[0m \u001b[38;5;124;03m            using the :func:`~parallel_config` context manager.\u001b[39;00m\n\u001b[0;32m    999\u001b[0m \u001b[38;5;124;03m        return_as: str in {'list', 'generator', 'generator_unordered'}, default='list'\u001b[39;00m\n\u001b[0;32m   1000\u001b[0m \u001b[38;5;124;03m            If 'list', calls to this instance will return a list, only when\u001b[39;00m\n\u001b[0;32m   1001\u001b[0m \u001b[38;5;124;03m            all results have been processed and retrieved.\u001b[39;00m\n\u001b[0;32m   1002\u001b[0m \u001b[38;5;124;03m            If 'generator', it will return a generator that yields the results\u001b[39;00m\n\u001b[0;32m   1003\u001b[0m \u001b[38;5;124;03m            as soon as they are available, in the order the tasks have been\u001b[39;00m\n\u001b[0;32m   1004\u001b[0m \u001b[38;5;124;03m            submitted with.\u001b[39;00m\n\u001b[0;32m   1005\u001b[0m \u001b[38;5;124;03m            If 'generator_unordered', the generator will immediately yield\u001b[39;00m\n\u001b[0;32m   1006\u001b[0m \u001b[38;5;124;03m            available results independently of the submission order. The output\u001b[39;00m\n\u001b[0;32m   1007\u001b[0m \u001b[38;5;124;03m            order is not deterministic in this case because it depends on the\u001b[39;00m\n\u001b[0;32m   1008\u001b[0m \u001b[38;5;124;03m            concurrency of the workers.\u001b[39;00m\n\u001b[0;32m   1009\u001b[0m \u001b[38;5;124;03m        prefer: str in {'processes', 'threads'} or None, default=None\u001b[39;00m\n\u001b[0;32m   1010\u001b[0m \u001b[38;5;124;03m            Soft hint to choose the default backend if no specific backend\u001b[39;00m\n\u001b[0;32m   1011\u001b[0m \u001b[38;5;124;03m            was selected with the :func:`~parallel_config` context manager.\u001b[39;00m\n\u001b[0;32m   1012\u001b[0m \u001b[38;5;124;03m            The default process-based backend is 'loky' and the default\u001b[39;00m\n\u001b[0;32m   1013\u001b[0m \u001b[38;5;124;03m            thread-based backend is 'threading'. Ignored if the ``backend``\u001b[39;00m\n\u001b[0;32m   1014\u001b[0m \u001b[38;5;124;03m            parameter is specified.\u001b[39;00m\n\u001b[0;32m   1015\u001b[0m \u001b[38;5;124;03m        require: 'sharedmem' or None, default=None\u001b[39;00m\n\u001b[0;32m   1016\u001b[0m \u001b[38;5;124;03m            Hard constraint to select the backend. If set to 'sharedmem',\u001b[39;00m\n\u001b[0;32m   1017\u001b[0m \u001b[38;5;124;03m            the selected backend will be single-host and thread-based even\u001b[39;00m\n\u001b[0;32m   1018\u001b[0m \u001b[38;5;124;03m            if the user asked for a non-thread based backend with\u001b[39;00m\n\u001b[0;32m   1019\u001b[0m \u001b[38;5;124;03m            :func:`~joblib.parallel_config`.\u001b[39;00m\n\u001b[0;32m   1020\u001b[0m \u001b[38;5;124;03m        verbose: int, default=0\u001b[39;00m\n\u001b[0;32m   1021\u001b[0m \u001b[38;5;124;03m            The verbosity level: if non zero, progress messages are\u001b[39;00m\n\u001b[0;32m   1022\u001b[0m \u001b[38;5;124;03m            printed. Above 50, the output is sent to stdout.\u001b[39;00m\n\u001b[0;32m   1023\u001b[0m \u001b[38;5;124;03m            The frequency of the messages increases with the verbosity level.\u001b[39;00m\n\u001b[0;32m   1024\u001b[0m \u001b[38;5;124;03m            If it more than 10, all iterations are reported.\u001b[39;00m\n\u001b[0;32m   1025\u001b[0m \u001b[38;5;124;03m        timeout: float or None, default=None\u001b[39;00m\n\u001b[0;32m   1026\u001b[0m \u001b[38;5;124;03m            Timeout limit for each task to complete.  If any task takes longer\u001b[39;00m\n\u001b[0;32m   1027\u001b[0m \u001b[38;5;124;03m            a TimeOutError will be raised. Only applied when n_jobs != 1\u001b[39;00m\n\u001b[0;32m   1028\u001b[0m \u001b[38;5;124;03m        pre_dispatch: {'all', integer, or expression, as in '3*n_jobs'}, default='2*n_jobs'\u001b[39;00m\n\u001b[0;32m   1029\u001b[0m \u001b[38;5;124;03m            The number of batches (of tasks) to be pre-dispatched.\u001b[39;00m\n\u001b[0;32m   1030\u001b[0m \u001b[38;5;124;03m            Default is '2*n_jobs'. When batch_size=\"auto\" this is reasonable\u001b[39;00m\n\u001b[0;32m   1031\u001b[0m \u001b[38;5;124;03m            default and the workers should never starve. Note that only basic\u001b[39;00m\n\u001b[0;32m   1032\u001b[0m \u001b[38;5;124;03m            arithmetics are allowed here and no modules can be used in this\u001b[39;00m\n\u001b[0;32m   1033\u001b[0m \u001b[38;5;124;03m            expression.\u001b[39;00m\n\u001b[0;32m   1034\u001b[0m \u001b[38;5;124;03m        batch_size: int or 'auto', default='auto'\u001b[39;00m\n\u001b[0;32m   1035\u001b[0m \u001b[38;5;124;03m            The number of atomic tasks to dispatch at once to each\u001b[39;00m\n\u001b[0;32m   1036\u001b[0m \u001b[38;5;124;03m            worker. When individual evaluations are very fast, dispatching\u001b[39;00m\n\u001b[0;32m   1037\u001b[0m \u001b[38;5;124;03m            calls to workers can be slower than sequential computation because\u001b[39;00m\n\u001b[0;32m   1038\u001b[0m \u001b[38;5;124;03m            of the overhead. Batching fast computations together can mitigate\u001b[39;00m\n\u001b[0;32m   1039\u001b[0m \u001b[38;5;124;03m            this.\u001b[39;00m\n\u001b[0;32m   1040\u001b[0m \u001b[38;5;124;03m            The ``'auto'`` strategy keeps track of the time it takes for a\u001b[39;00m\n\u001b[0;32m   1041\u001b[0m \u001b[38;5;124;03m            batch to complete, and dynamically adjusts the batch size to keep\u001b[39;00m\n\u001b[0;32m   1042\u001b[0m \u001b[38;5;124;03m            the time on the order of half a second, using a heuristic. The\u001b[39;00m\n\u001b[0;32m   1043\u001b[0m \u001b[38;5;124;03m            initial batch size is 1.\u001b[39;00m\n\u001b[0;32m   1044\u001b[0m \u001b[38;5;124;03m            ``batch_size=\"auto\"`` with ``backend=\"threading\"`` will dispatch\u001b[39;00m\n\u001b[0;32m   1045\u001b[0m \u001b[38;5;124;03m            batches of a single task at a time as the threading backend has\u001b[39;00m\n\u001b[0;32m   1046\u001b[0m \u001b[38;5;124;03m            very little overhead and using larger batch size has not proved to\u001b[39;00m\n\u001b[0;32m   1047\u001b[0m \u001b[38;5;124;03m            bring any gain in that case.\u001b[39;00m\n\u001b[0;32m   1048\u001b[0m \u001b[38;5;124;03m        temp_folder: str or None, default=None\u001b[39;00m\n\u001b[0;32m   1049\u001b[0m \u001b[38;5;124;03m            Folder to be used by the pool for memmapping large arrays\u001b[39;00m\n\u001b[0;32m   1050\u001b[0m \u001b[38;5;124;03m            for sharing memory with worker processes. If None, this will try in\u001b[39;00m\n\u001b[0;32m   1051\u001b[0m \u001b[38;5;124;03m            order:\u001b[39;00m\n\u001b[0;32m   1052\u001b[0m \n\u001b[0;32m   1053\u001b[0m \u001b[38;5;124;03m            - a folder pointed by the JOBLIB_TEMP_FOLDER environment\u001b[39;00m\n\u001b[0;32m   1054\u001b[0m \u001b[38;5;124;03m              variable,\u001b[39;00m\n\u001b[0;32m   1055\u001b[0m \u001b[38;5;124;03m            - /dev/shm if the folder exists and is writable: this is a\u001b[39;00m\n\u001b[0;32m   1056\u001b[0m \u001b[38;5;124;03m              RAM disk filesystem available by default on modern Linux\u001b[39;00m\n\u001b[0;32m   1057\u001b[0m \u001b[38;5;124;03m              distributions,\u001b[39;00m\n\u001b[0;32m   1058\u001b[0m \u001b[38;5;124;03m            - the default system temporary folder that can be\u001b[39;00m\n\u001b[0;32m   1059\u001b[0m \u001b[38;5;124;03m              overridden with TMP, TMPDIR or TEMP environment\u001b[39;00m\n\u001b[0;32m   1060\u001b[0m \u001b[38;5;124;03m              variables, typically /tmp under Unix operating systems.\u001b[39;00m\n\u001b[0;32m   1061\u001b[0m \n\u001b[0;32m   1062\u001b[0m \u001b[38;5;124;03m            Only active when ``backend=\"loky\"`` or ``\"multiprocessing\"``.\u001b[39;00m\n\u001b[0;32m   1063\u001b[0m \u001b[38;5;124;03m        max_nbytes int, str, or None, optional, default='1M'\u001b[39;00m\n\u001b[0;32m   1064\u001b[0m \u001b[38;5;124;03m            Threshold on the size of arrays passed to the workers that\u001b[39;00m\n\u001b[0;32m   1065\u001b[0m \u001b[38;5;124;03m            triggers automated memory mapping in temp_folder. Can be an int\u001b[39;00m\n\u001b[0;32m   1066\u001b[0m \u001b[38;5;124;03m            in Bytes, or a human-readable string, e.g., '1M' for 1 megabyte.\u001b[39;00m\n\u001b[0;32m   1067\u001b[0m \u001b[38;5;124;03m            Use None to disable memmapping of large arrays.\u001b[39;00m\n\u001b[0;32m   1068\u001b[0m \u001b[38;5;124;03m            Only active when ``backend=\"loky\"`` or ``\"multiprocessing\"``.\u001b[39;00m\n\u001b[0;32m   1069\u001b[0m \u001b[38;5;124;03m        mmap_mode: {None, 'r+', 'r', 'w+', 'c'}, default='r'\u001b[39;00m\n\u001b[0;32m   1070\u001b[0m \u001b[38;5;124;03m            Memmapping mode for numpy arrays passed to workers. None will\u001b[39;00m\n\u001b[0;32m   1071\u001b[0m \u001b[38;5;124;03m            disable memmapping, other modes defined in the numpy.memmap doc:\u001b[39;00m\n\u001b[0;32m   1072\u001b[0m \u001b[38;5;124;03m            https://numpy.org/doc/stable/reference/generated/numpy.memmap.html\u001b[39;00m\n\u001b[0;32m   1073\u001b[0m \u001b[38;5;124;03m            Also, see 'max_nbytes' parameter documentation for more details.\u001b[39;00m\n\u001b[0;32m   1074\u001b[0m \n\u001b[0;32m   1075\u001b[0m \u001b[38;5;124;03m        Notes\u001b[39;00m\n\u001b[0;32m   1076\u001b[0m \u001b[38;5;124;03m        -----\u001b[39;00m\n\u001b[0;32m   1077\u001b[0m \n\u001b[0;32m   1078\u001b[0m \u001b[38;5;124;03m        This object uses workers to compute in parallel the application of a\u001b[39;00m\n\u001b[0;32m   1079\u001b[0m \u001b[38;5;124;03m        function to many different arguments. The main functionality it brings\u001b[39;00m\n\u001b[0;32m   1080\u001b[0m \u001b[38;5;124;03m        in addition to using the raw multiprocessing or concurrent.futures API\u001b[39;00m\n\u001b[0;32m   1081\u001b[0m \u001b[38;5;124;03m        are (see examples for details):\u001b[39;00m\n\u001b[0;32m   1082\u001b[0m \n\u001b[0;32m   1083\u001b[0m \u001b[38;5;124;03m        * More readable code, in particular since it avoids\u001b[39;00m\n\u001b[0;32m   1084\u001b[0m \u001b[38;5;124;03m          constructing list of arguments.\u001b[39;00m\n\u001b[0;32m   1085\u001b[0m \n\u001b[0;32m   1086\u001b[0m \u001b[38;5;124;03m        * Easier debugging:\u001b[39;00m\n\u001b[0;32m   1087\u001b[0m \u001b[38;5;124;03m            - informative tracebacks even when the error happens on\u001b[39;00m\n\u001b[0;32m   1088\u001b[0m \u001b[38;5;124;03m              the client side\u001b[39;00m\n\u001b[0;32m   1089\u001b[0m \u001b[38;5;124;03m            - using 'n_jobs=1' enables to turn off parallel computing\u001b[39;00m\n\u001b[0;32m   1090\u001b[0m \u001b[38;5;124;03m              for debugging without changing the codepath\u001b[39;00m\n\u001b[0;32m   1091\u001b[0m \u001b[38;5;124;03m            - early capture of pickling errors\u001b[39;00m\n\u001b[0;32m   1092\u001b[0m \n\u001b[0;32m   1093\u001b[0m \u001b[38;5;124;03m        * An optional progress meter.\u001b[39;00m\n\u001b[0;32m   1094\u001b[0m \n\u001b[0;32m   1095\u001b[0m \u001b[38;5;124;03m        * Interruption of multiprocesses jobs with 'Ctrl-C'\u001b[39;00m\n\u001b[0;32m   1096\u001b[0m \n\u001b[0;32m   1097\u001b[0m \u001b[38;5;124;03m        * Flexible pickling control for the communication to and from\u001b[39;00m\n\u001b[1;32m-> 1098\u001b[0m \u001b[38;5;124;03m          the worker processes.\u001b[39;00m\n\u001b[0;32m   1099\u001b[0m \n\u001b[0;32m   1100\u001b[0m \u001b[38;5;124;03m        * Ability to use shared memory efficiently with worker\u001b[39;00m\n\u001b[0;32m   1101\u001b[0m \u001b[38;5;124;03m          processes for large numpy-based datastructures.\u001b[39;00m\n\u001b[0;32m   1102\u001b[0m \n\u001b[0;32m   1103\u001b[0m \u001b[38;5;124;03m        Note that the intended usage is to run one call at a time. Multiple\u001b[39;00m\n\u001b[0;32m   1104\u001b[0m \u001b[38;5;124;03m        calls to the same Parallel object will result in a ``RuntimeError``\u001b[39;00m\n\u001b[0;32m   1105\u001b[0m \n\u001b[0;32m   1106\u001b[0m \u001b[38;5;124;03m        Examples\u001b[39;00m\n\u001b[0;32m   1107\u001b[0m \u001b[38;5;124;03m        --------\u001b[39;00m\n\u001b[0;32m   1108\u001b[0m \n\u001b[0;32m   1109\u001b[0m \u001b[38;5;124;03m        A simple example:\u001b[39;00m\n\u001b[0;32m   1110\u001b[0m \n\u001b[0;32m   1111\u001b[0m \u001b[38;5;124;03m        >>> from math import sqrt\u001b[39;00m\n\u001b[0;32m   1112\u001b[0m \u001b[38;5;124;03m        >>> from joblib import Parallel, delayed\u001b[39;00m\n\u001b[0;32m   1113\u001b[0m \u001b[38;5;124;03m        >>> Parallel(n_jobs=1)(delayed(sqrt)(i**2) for i in range(10))\u001b[39;00m\n\u001b[0;32m   1114\u001b[0m \u001b[38;5;124;03m        [0.0, 1.0, 2.0, 3.0, 4.0, 5.0, 6.0, 7.0, 8.0, 9.0]\u001b[39;00m\n\u001b[0;32m   1115\u001b[0m \n\u001b[0;32m   1116\u001b[0m \u001b[38;5;124;03m        Reshaping the output when the function has several return\u001b[39;00m\n\u001b[0;32m   1117\u001b[0m \u001b[38;5;124;03m        values:\u001b[39;00m\n\u001b[0;32m   1118\u001b[0m \n\u001b[0;32m   1119\u001b[0m \u001b[38;5;124;03m        >>> from math import modf\u001b[39;00m\n\u001b[0;32m   1120\u001b[0m \u001b[38;5;124;03m        >>> from joblib import Parallel, delayed\u001b[39;00m\n\u001b[0;32m   1121\u001b[0m \u001b[38;5;124;03m        >>> r = Parallel(n_jobs=1)(delayed(modf)(i/2.) for i in range(10))\u001b[39;00m\n\u001b[0;32m   1122\u001b[0m \u001b[38;5;124;03m        >>> res, i = zip(*r)\u001b[39;00m\n\u001b[0;32m   1123\u001b[0m \u001b[38;5;124;03m        >>> res\u001b[39;00m\n\u001b[0;32m   1124\u001b[0m \u001b[38;5;124;03m        (0.0, 0.5, 0.0, 0.5, 0.0, 0.5, 0.0, 0.5, 0.0, 0.5)\u001b[39;00m\n\u001b[0;32m   1125\u001b[0m \u001b[38;5;124;03m        >>> i\u001b[39;00m\n\u001b[0;32m   1126\u001b[0m \u001b[38;5;124;03m        (0.0, 0.0, 1.0, 1.0, 2.0, 2.0, 3.0, 3.0, 4.0, 4.0)\u001b[39;00m\n\u001b[0;32m   1127\u001b[0m \n\u001b[0;32m   1128\u001b[0m \u001b[38;5;124;03m        The progress meter: the higher the value of `verbose`, the more\u001b[39;00m\n\u001b[0;32m   1129\u001b[0m \u001b[38;5;124;03m        messages:\u001b[39;00m\n\u001b[0;32m   1130\u001b[0m \n\u001b[0;32m   1131\u001b[0m \u001b[38;5;124;03m        >>> from time import sleep\u001b[39;00m\n\u001b[0;32m   1132\u001b[0m \u001b[38;5;124;03m        >>> from joblib import Parallel, delayed\u001b[39;00m\n\u001b[0;32m   1133\u001b[0m \u001b[38;5;124;03m        >>> r = Parallel(n_jobs=2, verbose=10)(\u001b[39;00m\n\u001b[0;32m   1134\u001b[0m \u001b[38;5;124;03m        ...     delayed(sleep)(.2) for _ in range(10)) #doctest: +SKIP\u001b[39;00m\n\u001b[0;32m   1135\u001b[0m \u001b[38;5;124;03m        [Parallel(n_jobs=2)]: Done   1 tasks      | elapsed:    0.6s\u001b[39;00m\n\u001b[0;32m   1136\u001b[0m \u001b[38;5;124;03m        [Parallel(n_jobs=2)]: Done   4 tasks      | elapsed:    0.8s\u001b[39;00m\n\u001b[0;32m   1137\u001b[0m \u001b[38;5;124;03m        [Parallel(n_jobs=2)]: Done  10 out of  10 | elapsed:    1.4s finished\u001b[39;00m\n\u001b[0;32m   1138\u001b[0m \n\u001b[0;32m   1139\u001b[0m \u001b[38;5;124;03m        Traceback example, note how the line of the error is indicated\u001b[39;00m\n\u001b[0;32m   1140\u001b[0m \u001b[38;5;124;03m        as well as the values of the parameter passed to the function that\u001b[39;00m\n\u001b[0;32m   1141\u001b[0m \u001b[38;5;124;03m        triggered the exception, even though the traceback happens in the\u001b[39;00m\n\u001b[0;32m   1142\u001b[0m \u001b[38;5;124;03m        child process:\u001b[39;00m\n\u001b[0;32m   1143\u001b[0m \n\u001b[0;32m   1144\u001b[0m \u001b[38;5;124;03m        >>> from heapq import nlargest\u001b[39;00m\n\u001b[0;32m   1145\u001b[0m \u001b[38;5;124;03m        >>> from joblib import Parallel, delayed\u001b[39;00m\n\u001b[0;32m   1146\u001b[0m \u001b[38;5;124;03m        >>> Parallel(n_jobs=2)(\u001b[39;00m\n\u001b[0;32m   1147\u001b[0m \u001b[38;5;124;03m        ... delayed(nlargest)(2, n) for n in (range(4), 'abcde', 3))\u001b[39;00m\n\u001b[0;32m   1148\u001b[0m \u001b[38;5;124;03m        ... # doctest: +SKIP\u001b[39;00m\n\u001b[0;32m   1149\u001b[0m \u001b[38;5;124;03m        -----------------------------------------------------------------------\u001b[39;00m\n\u001b[0;32m   1150\u001b[0m \u001b[38;5;124;03m        Sub-process traceback:\u001b[39;00m\n\u001b[0;32m   1151\u001b[0m \u001b[38;5;124;03m        -----------------------------------------------------------------------\u001b[39;00m\n\u001b[0;32m   1152\u001b[0m \u001b[38;5;124;03m        TypeError                                      Mon Nov 12 11:37:46 2012\u001b[39;00m\n\u001b[0;32m   1153\u001b[0m \u001b[38;5;124;03m        PID: 12934                                Python 2.7.3: /usr/bin/python\u001b[39;00m\n\u001b[0;32m   1154\u001b[0m \u001b[38;5;124;03m        ........................................................................\u001b[39;00m\n\u001b[0;32m   1155\u001b[0m \u001b[38;5;124;03m        /usr/lib/python2.7/heapq.pyc in nlargest(n=2, iterable=3, key=None)\u001b[39;00m\n\u001b[0;32m   1156\u001b[0m \u001b[38;5;124;03m            419         if n >= size:\u001b[39;00m\n\u001b[0;32m   1157\u001b[0m \u001b[38;5;124;03m            420             return sorted(iterable, key=key, reverse=True)[:n]\u001b[39;00m\n\u001b[0;32m   1158\u001b[0m \u001b[38;5;124;03m            421\u001b[39;00m\n\u001b[0;32m   1159\u001b[0m \u001b[38;5;124;03m            422     # When key is none, use simpler decoration\u001b[39;00m\n\u001b[0;32m   1160\u001b[0m \u001b[38;5;124;03m            423     if key is None:\u001b[39;00m\n\u001b[0;32m   1161\u001b[0m \u001b[38;5;124;03m        --> 424         it = izip(iterable, count(0,-1))           # decorate\u001b[39;00m\n\u001b[0;32m   1162\u001b[0m \u001b[38;5;124;03m            425         result = _nlargest(n, it)\u001b[39;00m\n\u001b[0;32m   1163\u001b[0m \u001b[38;5;124;03m            426         return map(itemgetter(0), result)          # undecorate\u001b[39;00m\n\u001b[0;32m   1164\u001b[0m \u001b[38;5;124;03m            427\u001b[39;00m\n\u001b[0;32m   1165\u001b[0m \u001b[38;5;124;03m            428     # General case, slowest method\u001b[39;00m\n\u001b[0;32m   1166\u001b[0m \u001b[38;5;124;03m         TypeError: izip argument #1 must support iteration\u001b[39;00m\n\u001b[0;32m   1167\u001b[0m \u001b[38;5;124;03m        _______________________________________________________________________\u001b[39;00m\n\u001b[0;32m   1168\u001b[0m \n\u001b[0;32m   1169\u001b[0m \n\u001b[0;32m   1170\u001b[0m \u001b[38;5;124;03m        Using pre_dispatch in a producer/consumer situation, where the\u001b[39;00m\n\u001b[0;32m   1171\u001b[0m \u001b[38;5;124;03m        data is generated on the fly. Note how the producer is first\u001b[39;00m\n\u001b[0;32m   1172\u001b[0m \u001b[38;5;124;03m        called 3 times before the parallel loop is initiated, and then\u001b[39;00m\n\u001b[0;32m   1173\u001b[0m \u001b[38;5;124;03m        called to generate new data on the fly:\u001b[39;00m\n\u001b[0;32m   1174\u001b[0m \n\u001b[0;32m   1175\u001b[0m \u001b[38;5;124;03m        >>> from math import sqrt\u001b[39;00m\n\u001b[0;32m   1176\u001b[0m \u001b[38;5;124;03m        >>> from joblib import Parallel, delayed\u001b[39;00m\n\u001b[0;32m   1177\u001b[0m \u001b[38;5;124;03m        >>> def producer():\u001b[39;00m\n\u001b[0;32m   1178\u001b[0m \u001b[38;5;124;03m        ...     for i in range(6):\u001b[39;00m\n\u001b[0;32m   1179\u001b[0m \u001b[38;5;124;03m        ...         print('Produced %s' % i)\u001b[39;00m\n\u001b[0;32m   1180\u001b[0m \u001b[38;5;124;03m        ...         yield i\u001b[39;00m\n\u001b[0;32m   1181\u001b[0m \u001b[38;5;124;03m        >>> out = Parallel(n_jobs=2, verbose=100, pre_dispatch='1.5*n_jobs')(\u001b[39;00m\n\u001b[0;32m   1182\u001b[0m \u001b[38;5;124;03m        ...     delayed(sqrt)(i) for i in producer()) #doctest: +SKIP\u001b[39;00m\n\u001b[0;32m   1183\u001b[0m \u001b[38;5;124;03m        Produced 0\u001b[39;00m\n\u001b[0;32m   1184\u001b[0m \u001b[38;5;124;03m        Produced 1\u001b[39;00m\n\u001b[0;32m   1185\u001b[0m \u001b[38;5;124;03m        Produced 2\u001b[39;00m\n\u001b[0;32m   1186\u001b[0m \u001b[38;5;124;03m        [Parallel(n_jobs=2)]: Done 1 jobs     | elapsed:  0.0s\u001b[39;00m\n\u001b[0;32m   1187\u001b[0m \u001b[38;5;124;03m        Produced 3\u001b[39;00m\n\u001b[0;32m   1188\u001b[0m \u001b[38;5;124;03m        [Parallel(n_jobs=2)]: Done 2 jobs     | elapsed:  0.0s\u001b[39;00m\n\u001b[0;32m   1189\u001b[0m \u001b[38;5;124;03m        Produced 4\u001b[39;00m\n\u001b[0;32m   1190\u001b[0m \u001b[38;5;124;03m        [Parallel(n_jobs=2)]: Done 3 jobs     | elapsed:  0.0s\u001b[39;00m\n\u001b[0;32m   1191\u001b[0m \u001b[38;5;124;03m        Produced 5\u001b[39;00m\n\u001b[0;32m   1192\u001b[0m \u001b[38;5;124;03m        [Parallel(n_jobs=2)]: Done 4 jobs     | elapsed:  0.0s\u001b[39;00m\n\u001b[0;32m   1193\u001b[0m \u001b[38;5;124;03m        [Parallel(n_jobs=2)]: Done 6 out of 6 | elapsed:  0.0s remaining: 0.0s\u001b[39;00m\n\u001b[0;32m   1194\u001b[0m \u001b[38;5;124;03m        [Parallel(n_jobs=2)]: Done 6 out of 6 | elapsed:  0.0s finished\u001b[39;00m\n\u001b[0;32m   1195\u001b[0m \n\u001b[0;32m   1196\u001b[0m \u001b[38;5;124;03m    '''\u001b[39;00m  \u001b[38;5;66;03m# noqa: E501\u001b[39;00m\n\u001b[0;32m   1197\u001b[0m     \u001b[38;5;28;01mdef\u001b[39;00m \u001b[38;5;21m__init__\u001b[39m(\n\u001b[0;32m   1198\u001b[0m         \u001b[38;5;28mself\u001b[39m,\n\u001b[0;32m   1199\u001b[0m         n_jobs\u001b[38;5;241m=\u001b[39mdefault_parallel_config[\u001b[38;5;124m\"\u001b[39m\u001b[38;5;124mn_jobs\u001b[39m\u001b[38;5;124m\"\u001b[39m],\n\u001b[1;32m   (...)\u001b[0m\n\u001b[0;32m   1211\u001b[0m     ):\n\u001b[0;32m   1212\u001b[0m         \u001b[38;5;66;03m# Initiate parent Logger class state\u001b[39;00m\n\u001b[0;32m   1213\u001b[0m         \u001b[38;5;28msuper\u001b[39m()\u001b[38;5;241m.\u001b[39m\u001b[38;5;21m__init__\u001b[39m()\n",
      "File \u001b[1;32m~\\anaconda3\\Lib\\site-packages\\joblib\\parallel.py:975\u001b[0m, in \u001b[0;36mretrieve\u001b[1;34m(self)\u001b[0m\n\u001b[0;32m    946\u001b[0m \u001b[38;5;28;01mclass\u001b[39;00m \u001b[38;5;21;01mParallel\u001b[39;00m(Logger):\n\u001b[0;32m    947\u001b[0m \u001b[38;5;250m    \u001b[39m\u001b[38;5;124;03m''' Helper class for readable parallel mapping.\u001b[39;00m\n\u001b[0;32m    948\u001b[0m \n\u001b[0;32m    949\u001b[0m \u001b[38;5;124;03m        Read more in the :ref:`User Guide <parallel>`.\u001b[39;00m\n\u001b[0;32m    950\u001b[0m \n\u001b[0;32m    951\u001b[0m \u001b[38;5;124;03m        Parameters\u001b[39;00m\n\u001b[0;32m    952\u001b[0m \u001b[38;5;124;03m        ----------\u001b[39;00m\n\u001b[0;32m    953\u001b[0m \u001b[38;5;124;03m        n_jobs: int, default=None\u001b[39;00m\n\u001b[0;32m    954\u001b[0m \u001b[38;5;124;03m            The maximum number of concurrently running jobs, such as the number\u001b[39;00m\n\u001b[0;32m    955\u001b[0m \u001b[38;5;124;03m            of Python worker processes when ``backend=\"loky\"`` or the size of\u001b[39;00m\n\u001b[0;32m    956\u001b[0m \u001b[38;5;124;03m            the thread-pool when ``backend=\"threading\"``.\u001b[39;00m\n\u001b[0;32m    957\u001b[0m \u001b[38;5;124;03m            This argument is converted to an integer, rounded below for float.\u001b[39;00m\n\u001b[0;32m    958\u001b[0m \u001b[38;5;124;03m            If -1 is given, `joblib` tries to use all CPUs. The number of CPUs\u001b[39;00m\n\u001b[0;32m    959\u001b[0m \u001b[38;5;124;03m            ``n_cpus`` is obtained with :func:`~cpu_count`.\u001b[39;00m\n\u001b[0;32m    960\u001b[0m \u001b[38;5;124;03m            For n_jobs below -1, (n_cpus + 1 + n_jobs) are used. For instance,\u001b[39;00m\n\u001b[0;32m    961\u001b[0m \u001b[38;5;124;03m            using ``n_jobs=-2`` will result in all CPUs but one being used.\u001b[39;00m\n\u001b[0;32m    962\u001b[0m \u001b[38;5;124;03m            This argument can also go above ``n_cpus``, which will cause\u001b[39;00m\n\u001b[0;32m    963\u001b[0m \u001b[38;5;124;03m            oversubscription. In some cases, slight oversubscription can be\u001b[39;00m\n\u001b[0;32m    964\u001b[0m \u001b[38;5;124;03m            beneficial, e.g., for tasks with large I/O operations.\u001b[39;00m\n\u001b[0;32m    965\u001b[0m \u001b[38;5;124;03m            If 1 is given, no parallel computing code is used at all, and the\u001b[39;00m\n\u001b[0;32m    966\u001b[0m \u001b[38;5;124;03m            behavior amounts to a simple python `for` loop. This mode is not\u001b[39;00m\n\u001b[0;32m    967\u001b[0m \u001b[38;5;124;03m            compatible with ``timeout``.\u001b[39;00m\n\u001b[0;32m    968\u001b[0m \u001b[38;5;124;03m            None is a marker for 'unset' that will be interpreted as n_jobs=1\u001b[39;00m\n\u001b[0;32m    969\u001b[0m \u001b[38;5;124;03m            unless the call is performed under a :func:`~parallel_config`\u001b[39;00m\n\u001b[0;32m    970\u001b[0m \u001b[38;5;124;03m            context manager that sets another value for ``n_jobs``.\u001b[39;00m\n\u001b[0;32m    971\u001b[0m \u001b[38;5;124;03m            If n_jobs = 0 then a ValueError is raised.\u001b[39;00m\n\u001b[0;32m    972\u001b[0m \u001b[38;5;124;03m        backend: str, ParallelBackendBase instance or None, default='loky'\u001b[39;00m\n\u001b[0;32m    973\u001b[0m \u001b[38;5;124;03m            Specify the parallelization backend implementation.\u001b[39;00m\n\u001b[0;32m    974\u001b[0m \u001b[38;5;124;03m            Supported backends are:\u001b[39;00m\n\u001b[1;32m--> 975\u001b[0m \n\u001b[0;32m    976\u001b[0m \u001b[38;5;124;03m            - \"loky\" used by default, can induce some\u001b[39;00m\n\u001b[0;32m    977\u001b[0m \u001b[38;5;124;03m              communication and memory overhead when exchanging input and\u001b[39;00m\n\u001b[0;32m    978\u001b[0m \u001b[38;5;124;03m              output data with the worker Python processes. On some rare\u001b[39;00m\n\u001b[0;32m    979\u001b[0m \u001b[38;5;124;03m              systems (such as Pyiodide), the loky backend may not be\u001b[39;00m\n\u001b[0;32m    980\u001b[0m \u001b[38;5;124;03m              available.\u001b[39;00m\n\u001b[0;32m    981\u001b[0m \u001b[38;5;124;03m            - \"multiprocessing\" previous process-based backend based on\u001b[39;00m\n\u001b[0;32m    982\u001b[0m \u001b[38;5;124;03m              `multiprocessing.Pool`. Less robust than `loky`.\u001b[39;00m\n\u001b[0;32m    983\u001b[0m \u001b[38;5;124;03m            - \"threading\" is a very low-overhead backend but it suffers\u001b[39;00m\n\u001b[0;32m    984\u001b[0m \u001b[38;5;124;03m              from the Python Global Interpreter Lock if the called function\u001b[39;00m\n\u001b[0;32m    985\u001b[0m \u001b[38;5;124;03m              relies a lot on Python objects. \"threading\" is mostly useful\u001b[39;00m\n\u001b[0;32m    986\u001b[0m \u001b[38;5;124;03m              when the execution bottleneck is a compiled extension that\u001b[39;00m\n\u001b[0;32m    987\u001b[0m \u001b[38;5;124;03m              explicitly releases the GIL (for instance a Cython loop wrapped\u001b[39;00m\n\u001b[0;32m    988\u001b[0m \u001b[38;5;124;03m              in a \"with nogil\" block or an expensive call to a library such\u001b[39;00m\n\u001b[0;32m    989\u001b[0m \u001b[38;5;124;03m              as NumPy).\u001b[39;00m\n\u001b[0;32m    990\u001b[0m \u001b[38;5;124;03m            - finally, you can register backends by calling\u001b[39;00m\n\u001b[0;32m    991\u001b[0m \u001b[38;5;124;03m              :func:`~register_parallel_backend`. This will allow you to\u001b[39;00m\n\u001b[0;32m    992\u001b[0m \u001b[38;5;124;03m              implement a backend of your liking.\u001b[39;00m\n\u001b[0;32m    993\u001b[0m \n\u001b[0;32m    994\u001b[0m \u001b[38;5;124;03m            It is not recommended to hard-code the backend name in a call to\u001b[39;00m\n\u001b[0;32m    995\u001b[0m \u001b[38;5;124;03m            :class:`~Parallel` in a library. Instead it is recommended to set\u001b[39;00m\n\u001b[0;32m    996\u001b[0m \u001b[38;5;124;03m            soft hints (prefer) or hard constraints (require) so as to make it\u001b[39;00m\n\u001b[0;32m    997\u001b[0m \u001b[38;5;124;03m            possible for library users to change the backend from the outside\u001b[39;00m\n\u001b[0;32m    998\u001b[0m \u001b[38;5;124;03m            using the :func:`~parallel_config` context manager.\u001b[39;00m\n\u001b[0;32m    999\u001b[0m \u001b[38;5;124;03m        return_as: str in {'list', 'generator', 'generator_unordered'}, default='list'\u001b[39;00m\n\u001b[0;32m   1000\u001b[0m \u001b[38;5;124;03m            If 'list', calls to this instance will return a list, only when\u001b[39;00m\n\u001b[0;32m   1001\u001b[0m \u001b[38;5;124;03m            all results have been processed and retrieved.\u001b[39;00m\n\u001b[0;32m   1002\u001b[0m \u001b[38;5;124;03m            If 'generator', it will return a generator that yields the results\u001b[39;00m\n\u001b[0;32m   1003\u001b[0m \u001b[38;5;124;03m            as soon as they are available, in the order the tasks have been\u001b[39;00m\n\u001b[0;32m   1004\u001b[0m \u001b[38;5;124;03m            submitted with.\u001b[39;00m\n\u001b[0;32m   1005\u001b[0m \u001b[38;5;124;03m            If 'generator_unordered', the generator will immediately yield\u001b[39;00m\n\u001b[0;32m   1006\u001b[0m \u001b[38;5;124;03m            available results independently of the submission order. The output\u001b[39;00m\n\u001b[0;32m   1007\u001b[0m \u001b[38;5;124;03m            order is not deterministic in this case because it depends on the\u001b[39;00m\n\u001b[0;32m   1008\u001b[0m \u001b[38;5;124;03m            concurrency of the workers.\u001b[39;00m\n\u001b[0;32m   1009\u001b[0m \u001b[38;5;124;03m        prefer: str in {'processes', 'threads'} or None, default=None\u001b[39;00m\n\u001b[0;32m   1010\u001b[0m \u001b[38;5;124;03m            Soft hint to choose the default backend if no specific backend\u001b[39;00m\n\u001b[0;32m   1011\u001b[0m \u001b[38;5;124;03m            was selected with the :func:`~parallel_config` context manager.\u001b[39;00m\n\u001b[0;32m   1012\u001b[0m \u001b[38;5;124;03m            The default process-based backend is 'loky' and the default\u001b[39;00m\n\u001b[0;32m   1013\u001b[0m \u001b[38;5;124;03m            thread-based backend is 'threading'. Ignored if the ``backend``\u001b[39;00m\n\u001b[0;32m   1014\u001b[0m \u001b[38;5;124;03m            parameter is specified.\u001b[39;00m\n\u001b[0;32m   1015\u001b[0m \u001b[38;5;124;03m        require: 'sharedmem' or None, default=None\u001b[39;00m\n\u001b[0;32m   1016\u001b[0m \u001b[38;5;124;03m            Hard constraint to select the backend. If set to 'sharedmem',\u001b[39;00m\n\u001b[0;32m   1017\u001b[0m \u001b[38;5;124;03m            the selected backend will be single-host and thread-based even\u001b[39;00m\n\u001b[0;32m   1018\u001b[0m \u001b[38;5;124;03m            if the user asked for a non-thread based backend with\u001b[39;00m\n\u001b[0;32m   1019\u001b[0m \u001b[38;5;124;03m            :func:`~joblib.parallel_config`.\u001b[39;00m\n\u001b[0;32m   1020\u001b[0m \u001b[38;5;124;03m        verbose: int, default=0\u001b[39;00m\n\u001b[0;32m   1021\u001b[0m \u001b[38;5;124;03m            The verbosity level: if non zero, progress messages are\u001b[39;00m\n\u001b[0;32m   1022\u001b[0m \u001b[38;5;124;03m            printed. Above 50, the output is sent to stdout.\u001b[39;00m\n\u001b[0;32m   1023\u001b[0m \u001b[38;5;124;03m            The frequency of the messages increases with the verbosity level.\u001b[39;00m\n\u001b[0;32m   1024\u001b[0m \u001b[38;5;124;03m            If it more than 10, all iterations are reported.\u001b[39;00m\n\u001b[0;32m   1025\u001b[0m \u001b[38;5;124;03m        timeout: float or None, default=None\u001b[39;00m\n\u001b[0;32m   1026\u001b[0m \u001b[38;5;124;03m            Timeout limit for each task to complete.  If any task takes longer\u001b[39;00m\n\u001b[0;32m   1027\u001b[0m \u001b[38;5;124;03m            a TimeOutError will be raised. Only applied when n_jobs != 1\u001b[39;00m\n\u001b[0;32m   1028\u001b[0m \u001b[38;5;124;03m        pre_dispatch: {'all', integer, or expression, as in '3*n_jobs'}, default='2*n_jobs'\u001b[39;00m\n\u001b[0;32m   1029\u001b[0m \u001b[38;5;124;03m            The number of batches (of tasks) to be pre-dispatched.\u001b[39;00m\n\u001b[0;32m   1030\u001b[0m \u001b[38;5;124;03m            Default is '2*n_jobs'. When batch_size=\"auto\" this is reasonable\u001b[39;00m\n\u001b[0;32m   1031\u001b[0m \u001b[38;5;124;03m            default and the workers should never starve. Note that only basic\u001b[39;00m\n\u001b[0;32m   1032\u001b[0m \u001b[38;5;124;03m            arithmetics are allowed here and no modules can be used in this\u001b[39;00m\n\u001b[0;32m   1033\u001b[0m \u001b[38;5;124;03m            expression.\u001b[39;00m\n\u001b[0;32m   1034\u001b[0m \u001b[38;5;124;03m        batch_size: int or 'auto', default='auto'\u001b[39;00m\n\u001b[0;32m   1035\u001b[0m \u001b[38;5;124;03m            The number of atomic tasks to dispatch at once to each\u001b[39;00m\n\u001b[0;32m   1036\u001b[0m \u001b[38;5;124;03m            worker. When individual evaluations are very fast, dispatching\u001b[39;00m\n\u001b[0;32m   1037\u001b[0m \u001b[38;5;124;03m            calls to workers can be slower than sequential computation because\u001b[39;00m\n\u001b[0;32m   1038\u001b[0m \u001b[38;5;124;03m            of the overhead. Batching fast computations together can mitigate\u001b[39;00m\n\u001b[0;32m   1039\u001b[0m \u001b[38;5;124;03m            this.\u001b[39;00m\n\u001b[0;32m   1040\u001b[0m \u001b[38;5;124;03m            The ``'auto'`` strategy keeps track of the time it takes for a\u001b[39;00m\n\u001b[0;32m   1041\u001b[0m \u001b[38;5;124;03m            batch to complete, and dynamically adjusts the batch size to keep\u001b[39;00m\n\u001b[0;32m   1042\u001b[0m \u001b[38;5;124;03m            the time on the order of half a second, using a heuristic. The\u001b[39;00m\n\u001b[0;32m   1043\u001b[0m \u001b[38;5;124;03m            initial batch size is 1.\u001b[39;00m\n\u001b[0;32m   1044\u001b[0m \u001b[38;5;124;03m            ``batch_size=\"auto\"`` with ``backend=\"threading\"`` will dispatch\u001b[39;00m\n\u001b[0;32m   1045\u001b[0m \u001b[38;5;124;03m            batches of a single task at a time as the threading backend has\u001b[39;00m\n\u001b[0;32m   1046\u001b[0m \u001b[38;5;124;03m            very little overhead and using larger batch size has not proved to\u001b[39;00m\n\u001b[0;32m   1047\u001b[0m \u001b[38;5;124;03m            bring any gain in that case.\u001b[39;00m\n\u001b[0;32m   1048\u001b[0m \u001b[38;5;124;03m        temp_folder: str or None, default=None\u001b[39;00m\n\u001b[0;32m   1049\u001b[0m \u001b[38;5;124;03m            Folder to be used by the pool for memmapping large arrays\u001b[39;00m\n\u001b[0;32m   1050\u001b[0m \u001b[38;5;124;03m            for sharing memory with worker processes. If None, this will try in\u001b[39;00m\n\u001b[0;32m   1051\u001b[0m \u001b[38;5;124;03m            order:\u001b[39;00m\n\u001b[0;32m   1052\u001b[0m \n\u001b[0;32m   1053\u001b[0m \u001b[38;5;124;03m            - a folder pointed by the JOBLIB_TEMP_FOLDER environment\u001b[39;00m\n\u001b[0;32m   1054\u001b[0m \u001b[38;5;124;03m              variable,\u001b[39;00m\n\u001b[0;32m   1055\u001b[0m \u001b[38;5;124;03m            - /dev/shm if the folder exists and is writable: this is a\u001b[39;00m\n\u001b[0;32m   1056\u001b[0m \u001b[38;5;124;03m              RAM disk filesystem available by default on modern Linux\u001b[39;00m\n\u001b[0;32m   1057\u001b[0m \u001b[38;5;124;03m              distributions,\u001b[39;00m\n\u001b[0;32m   1058\u001b[0m \u001b[38;5;124;03m            - the default system temporary folder that can be\u001b[39;00m\n\u001b[0;32m   1059\u001b[0m \u001b[38;5;124;03m              overridden with TMP, TMPDIR or TEMP environment\u001b[39;00m\n\u001b[0;32m   1060\u001b[0m \u001b[38;5;124;03m              variables, typically /tmp under Unix operating systems.\u001b[39;00m\n\u001b[0;32m   1061\u001b[0m \n\u001b[0;32m   1062\u001b[0m \u001b[38;5;124;03m            Only active when ``backend=\"loky\"`` or ``\"multiprocessing\"``.\u001b[39;00m\n\u001b[0;32m   1063\u001b[0m \u001b[38;5;124;03m        max_nbytes int, str, or None, optional, default='1M'\u001b[39;00m\n\u001b[0;32m   1064\u001b[0m \u001b[38;5;124;03m            Threshold on the size of arrays passed to the workers that\u001b[39;00m\n\u001b[0;32m   1065\u001b[0m \u001b[38;5;124;03m            triggers automated memory mapping in temp_folder. Can be an int\u001b[39;00m\n\u001b[0;32m   1066\u001b[0m \u001b[38;5;124;03m            in Bytes, or a human-readable string, e.g., '1M' for 1 megabyte.\u001b[39;00m\n\u001b[0;32m   1067\u001b[0m \u001b[38;5;124;03m            Use None to disable memmapping of large arrays.\u001b[39;00m\n\u001b[0;32m   1068\u001b[0m \u001b[38;5;124;03m            Only active when ``backend=\"loky\"`` or ``\"multiprocessing\"``.\u001b[39;00m\n\u001b[0;32m   1069\u001b[0m \u001b[38;5;124;03m        mmap_mode: {None, 'r+', 'r', 'w+', 'c'}, default='r'\u001b[39;00m\n\u001b[0;32m   1070\u001b[0m \u001b[38;5;124;03m            Memmapping mode for numpy arrays passed to workers. None will\u001b[39;00m\n\u001b[0;32m   1071\u001b[0m \u001b[38;5;124;03m            disable memmapping, other modes defined in the numpy.memmap doc:\u001b[39;00m\n\u001b[0;32m   1072\u001b[0m \u001b[38;5;124;03m            https://numpy.org/doc/stable/reference/generated/numpy.memmap.html\u001b[39;00m\n\u001b[0;32m   1073\u001b[0m \u001b[38;5;124;03m            Also, see 'max_nbytes' parameter documentation for more details.\u001b[39;00m\n\u001b[0;32m   1074\u001b[0m \n\u001b[0;32m   1075\u001b[0m \u001b[38;5;124;03m        Notes\u001b[39;00m\n\u001b[0;32m   1076\u001b[0m \u001b[38;5;124;03m        -----\u001b[39;00m\n\u001b[0;32m   1077\u001b[0m \n\u001b[0;32m   1078\u001b[0m \u001b[38;5;124;03m        This object uses workers to compute in parallel the application of a\u001b[39;00m\n\u001b[0;32m   1079\u001b[0m \u001b[38;5;124;03m        function to many different arguments. The main functionality it brings\u001b[39;00m\n\u001b[0;32m   1080\u001b[0m \u001b[38;5;124;03m        in addition to using the raw multiprocessing or concurrent.futures API\u001b[39;00m\n\u001b[0;32m   1081\u001b[0m \u001b[38;5;124;03m        are (see examples for details):\u001b[39;00m\n\u001b[0;32m   1082\u001b[0m \n\u001b[0;32m   1083\u001b[0m \u001b[38;5;124;03m        * More readable code, in particular since it avoids\u001b[39;00m\n\u001b[0;32m   1084\u001b[0m \u001b[38;5;124;03m          constructing list of arguments.\u001b[39;00m\n\u001b[0;32m   1085\u001b[0m \n\u001b[0;32m   1086\u001b[0m \u001b[38;5;124;03m        * Easier debugging:\u001b[39;00m\n\u001b[0;32m   1087\u001b[0m \u001b[38;5;124;03m            - informative tracebacks even when the error happens on\u001b[39;00m\n\u001b[0;32m   1088\u001b[0m \u001b[38;5;124;03m              the client side\u001b[39;00m\n\u001b[0;32m   1089\u001b[0m \u001b[38;5;124;03m            - using 'n_jobs=1' enables to turn off parallel computing\u001b[39;00m\n\u001b[0;32m   1090\u001b[0m \u001b[38;5;124;03m              for debugging without changing the codepath\u001b[39;00m\n\u001b[0;32m   1091\u001b[0m \u001b[38;5;124;03m            - early capture of pickling errors\u001b[39;00m\n\u001b[0;32m   1092\u001b[0m \n\u001b[0;32m   1093\u001b[0m \u001b[38;5;124;03m        * An optional progress meter.\u001b[39;00m\n\u001b[0;32m   1094\u001b[0m \n\u001b[0;32m   1095\u001b[0m \u001b[38;5;124;03m        * Interruption of multiprocesses jobs with 'Ctrl-C'\u001b[39;00m\n\u001b[0;32m   1096\u001b[0m \n\u001b[0;32m   1097\u001b[0m \u001b[38;5;124;03m        * Flexible pickling control for the communication to and from\u001b[39;00m\n\u001b[0;32m   1098\u001b[0m \u001b[38;5;124;03m          the worker processes.\u001b[39;00m\n\u001b[0;32m   1099\u001b[0m \n\u001b[0;32m   1100\u001b[0m \u001b[38;5;124;03m        * Ability to use shared memory efficiently with worker\u001b[39;00m\n\u001b[0;32m   1101\u001b[0m \u001b[38;5;124;03m          processes for large numpy-based datastructures.\u001b[39;00m\n\u001b[0;32m   1102\u001b[0m \n\u001b[0;32m   1103\u001b[0m \u001b[38;5;124;03m        Note that the intended usage is to run one call at a time. Multiple\u001b[39;00m\n\u001b[0;32m   1104\u001b[0m \u001b[38;5;124;03m        calls to the same Parallel object will result in a ``RuntimeError``\u001b[39;00m\n\u001b[0;32m   1105\u001b[0m \n\u001b[0;32m   1106\u001b[0m \u001b[38;5;124;03m        Examples\u001b[39;00m\n\u001b[0;32m   1107\u001b[0m \u001b[38;5;124;03m        --------\u001b[39;00m\n\u001b[0;32m   1108\u001b[0m \n\u001b[0;32m   1109\u001b[0m \u001b[38;5;124;03m        A simple example:\u001b[39;00m\n\u001b[0;32m   1110\u001b[0m \n\u001b[0;32m   1111\u001b[0m \u001b[38;5;124;03m        >>> from math import sqrt\u001b[39;00m\n\u001b[0;32m   1112\u001b[0m \u001b[38;5;124;03m        >>> from joblib import Parallel, delayed\u001b[39;00m\n\u001b[0;32m   1113\u001b[0m \u001b[38;5;124;03m        >>> Parallel(n_jobs=1)(delayed(sqrt)(i**2) for i in range(10))\u001b[39;00m\n\u001b[0;32m   1114\u001b[0m \u001b[38;5;124;03m        [0.0, 1.0, 2.0, 3.0, 4.0, 5.0, 6.0, 7.0, 8.0, 9.0]\u001b[39;00m\n\u001b[0;32m   1115\u001b[0m \n\u001b[0;32m   1116\u001b[0m \u001b[38;5;124;03m        Reshaping the output when the function has several return\u001b[39;00m\n\u001b[0;32m   1117\u001b[0m \u001b[38;5;124;03m        values:\u001b[39;00m\n\u001b[0;32m   1118\u001b[0m \n\u001b[0;32m   1119\u001b[0m \u001b[38;5;124;03m        >>> from math import modf\u001b[39;00m\n\u001b[0;32m   1120\u001b[0m \u001b[38;5;124;03m        >>> from joblib import Parallel, delayed\u001b[39;00m\n\u001b[0;32m   1121\u001b[0m \u001b[38;5;124;03m        >>> r = Parallel(n_jobs=1)(delayed(modf)(i/2.) for i in range(10))\u001b[39;00m\n\u001b[0;32m   1122\u001b[0m \u001b[38;5;124;03m        >>> res, i = zip(*r)\u001b[39;00m\n\u001b[0;32m   1123\u001b[0m \u001b[38;5;124;03m        >>> res\u001b[39;00m\n\u001b[0;32m   1124\u001b[0m \u001b[38;5;124;03m        (0.0, 0.5, 0.0, 0.5, 0.0, 0.5, 0.0, 0.5, 0.0, 0.5)\u001b[39;00m\n\u001b[0;32m   1125\u001b[0m \u001b[38;5;124;03m        >>> i\u001b[39;00m\n\u001b[0;32m   1126\u001b[0m \u001b[38;5;124;03m        (0.0, 0.0, 1.0, 1.0, 2.0, 2.0, 3.0, 3.0, 4.0, 4.0)\u001b[39;00m\n\u001b[0;32m   1127\u001b[0m \n\u001b[0;32m   1128\u001b[0m \u001b[38;5;124;03m        The progress meter: the higher the value of `verbose`, the more\u001b[39;00m\n\u001b[0;32m   1129\u001b[0m \u001b[38;5;124;03m        messages:\u001b[39;00m\n\u001b[0;32m   1130\u001b[0m \n\u001b[0;32m   1131\u001b[0m \u001b[38;5;124;03m        >>> from time import sleep\u001b[39;00m\n\u001b[0;32m   1132\u001b[0m \u001b[38;5;124;03m        >>> from joblib import Parallel, delayed\u001b[39;00m\n\u001b[0;32m   1133\u001b[0m \u001b[38;5;124;03m        >>> r = Parallel(n_jobs=2, verbose=10)(\u001b[39;00m\n\u001b[0;32m   1134\u001b[0m \u001b[38;5;124;03m        ...     delayed(sleep)(.2) for _ in range(10)) #doctest: +SKIP\u001b[39;00m\n\u001b[0;32m   1135\u001b[0m \u001b[38;5;124;03m        [Parallel(n_jobs=2)]: Done   1 tasks      | elapsed:    0.6s\u001b[39;00m\n\u001b[0;32m   1136\u001b[0m \u001b[38;5;124;03m        [Parallel(n_jobs=2)]: Done   4 tasks      | elapsed:    0.8s\u001b[39;00m\n\u001b[0;32m   1137\u001b[0m \u001b[38;5;124;03m        [Parallel(n_jobs=2)]: Done  10 out of  10 | elapsed:    1.4s finished\u001b[39;00m\n\u001b[0;32m   1138\u001b[0m \n\u001b[0;32m   1139\u001b[0m \u001b[38;5;124;03m        Traceback example, note how the line of the error is indicated\u001b[39;00m\n\u001b[0;32m   1140\u001b[0m \u001b[38;5;124;03m        as well as the values of the parameter passed to the function that\u001b[39;00m\n\u001b[0;32m   1141\u001b[0m \u001b[38;5;124;03m        triggered the exception, even though the traceback happens in the\u001b[39;00m\n\u001b[0;32m   1142\u001b[0m \u001b[38;5;124;03m        child process:\u001b[39;00m\n\u001b[0;32m   1143\u001b[0m \n\u001b[0;32m   1144\u001b[0m \u001b[38;5;124;03m        >>> from heapq import nlargest\u001b[39;00m\n\u001b[0;32m   1145\u001b[0m \u001b[38;5;124;03m        >>> from joblib import Parallel, delayed\u001b[39;00m\n\u001b[0;32m   1146\u001b[0m \u001b[38;5;124;03m        >>> Parallel(n_jobs=2)(\u001b[39;00m\n\u001b[0;32m   1147\u001b[0m \u001b[38;5;124;03m        ... delayed(nlargest)(2, n) for n in (range(4), 'abcde', 3))\u001b[39;00m\n\u001b[0;32m   1148\u001b[0m \u001b[38;5;124;03m        ... # doctest: +SKIP\u001b[39;00m\n\u001b[0;32m   1149\u001b[0m \u001b[38;5;124;03m        -----------------------------------------------------------------------\u001b[39;00m\n\u001b[0;32m   1150\u001b[0m \u001b[38;5;124;03m        Sub-process traceback:\u001b[39;00m\n\u001b[0;32m   1151\u001b[0m \u001b[38;5;124;03m        -----------------------------------------------------------------------\u001b[39;00m\n\u001b[0;32m   1152\u001b[0m \u001b[38;5;124;03m        TypeError                                      Mon Nov 12 11:37:46 2012\u001b[39;00m\n\u001b[0;32m   1153\u001b[0m \u001b[38;5;124;03m        PID: 12934                                Python 2.7.3: /usr/bin/python\u001b[39;00m\n\u001b[0;32m   1154\u001b[0m \u001b[38;5;124;03m        ........................................................................\u001b[39;00m\n\u001b[0;32m   1155\u001b[0m \u001b[38;5;124;03m        /usr/lib/python2.7/heapq.pyc in nlargest(n=2, iterable=3, key=None)\u001b[39;00m\n\u001b[0;32m   1156\u001b[0m \u001b[38;5;124;03m            419         if n >= size:\u001b[39;00m\n\u001b[0;32m   1157\u001b[0m \u001b[38;5;124;03m            420             return sorted(iterable, key=key, reverse=True)[:n]\u001b[39;00m\n\u001b[0;32m   1158\u001b[0m \u001b[38;5;124;03m            421\u001b[39;00m\n\u001b[0;32m   1159\u001b[0m \u001b[38;5;124;03m            422     # When key is none, use simpler decoration\u001b[39;00m\n\u001b[0;32m   1160\u001b[0m \u001b[38;5;124;03m            423     if key is None:\u001b[39;00m\n\u001b[0;32m   1161\u001b[0m \u001b[38;5;124;03m        --> 424         it = izip(iterable, count(0,-1))           # decorate\u001b[39;00m\n\u001b[0;32m   1162\u001b[0m \u001b[38;5;124;03m            425         result = _nlargest(n, it)\u001b[39;00m\n\u001b[0;32m   1163\u001b[0m \u001b[38;5;124;03m            426         return map(itemgetter(0), result)          # undecorate\u001b[39;00m\n\u001b[0;32m   1164\u001b[0m \u001b[38;5;124;03m            427\u001b[39;00m\n\u001b[0;32m   1165\u001b[0m \u001b[38;5;124;03m            428     # General case, slowest method\u001b[39;00m\n\u001b[0;32m   1166\u001b[0m \u001b[38;5;124;03m         TypeError: izip argument #1 must support iteration\u001b[39;00m\n\u001b[0;32m   1167\u001b[0m \u001b[38;5;124;03m        _______________________________________________________________________\u001b[39;00m\n\u001b[0;32m   1168\u001b[0m \n\u001b[0;32m   1169\u001b[0m \n\u001b[0;32m   1170\u001b[0m \u001b[38;5;124;03m        Using pre_dispatch in a producer/consumer situation, where the\u001b[39;00m\n\u001b[0;32m   1171\u001b[0m \u001b[38;5;124;03m        data is generated on the fly. Note how the producer is first\u001b[39;00m\n\u001b[0;32m   1172\u001b[0m \u001b[38;5;124;03m        called 3 times before the parallel loop is initiated, and then\u001b[39;00m\n\u001b[0;32m   1173\u001b[0m \u001b[38;5;124;03m        called to generate new data on the fly:\u001b[39;00m\n\u001b[0;32m   1174\u001b[0m \n\u001b[0;32m   1175\u001b[0m \u001b[38;5;124;03m        >>> from math import sqrt\u001b[39;00m\n\u001b[0;32m   1176\u001b[0m \u001b[38;5;124;03m        >>> from joblib import Parallel, delayed\u001b[39;00m\n\u001b[0;32m   1177\u001b[0m \u001b[38;5;124;03m        >>> def producer():\u001b[39;00m\n\u001b[0;32m   1178\u001b[0m \u001b[38;5;124;03m        ...     for i in range(6):\u001b[39;00m\n\u001b[0;32m   1179\u001b[0m \u001b[38;5;124;03m        ...         print('Produced %s' % i)\u001b[39;00m\n\u001b[0;32m   1180\u001b[0m \u001b[38;5;124;03m        ...         yield i\u001b[39;00m\n\u001b[0;32m   1181\u001b[0m \u001b[38;5;124;03m        >>> out = Parallel(n_jobs=2, verbose=100, pre_dispatch='1.5*n_jobs')(\u001b[39;00m\n\u001b[0;32m   1182\u001b[0m \u001b[38;5;124;03m        ...     delayed(sqrt)(i) for i in producer()) #doctest: +SKIP\u001b[39;00m\n\u001b[0;32m   1183\u001b[0m \u001b[38;5;124;03m        Produced 0\u001b[39;00m\n\u001b[0;32m   1184\u001b[0m \u001b[38;5;124;03m        Produced 1\u001b[39;00m\n\u001b[0;32m   1185\u001b[0m \u001b[38;5;124;03m        Produced 2\u001b[39;00m\n\u001b[0;32m   1186\u001b[0m \u001b[38;5;124;03m        [Parallel(n_jobs=2)]: Done 1 jobs     | elapsed:  0.0s\u001b[39;00m\n\u001b[0;32m   1187\u001b[0m \u001b[38;5;124;03m        Produced 3\u001b[39;00m\n\u001b[0;32m   1188\u001b[0m \u001b[38;5;124;03m        [Parallel(n_jobs=2)]: Done 2 jobs     | elapsed:  0.0s\u001b[39;00m\n\u001b[0;32m   1189\u001b[0m \u001b[38;5;124;03m        Produced 4\u001b[39;00m\n\u001b[0;32m   1190\u001b[0m \u001b[38;5;124;03m        [Parallel(n_jobs=2)]: Done 3 jobs     | elapsed:  0.0s\u001b[39;00m\n\u001b[0;32m   1191\u001b[0m \u001b[38;5;124;03m        Produced 5\u001b[39;00m\n\u001b[0;32m   1192\u001b[0m \u001b[38;5;124;03m        [Parallel(n_jobs=2)]: Done 4 jobs     | elapsed:  0.0s\u001b[39;00m\n\u001b[0;32m   1193\u001b[0m \u001b[38;5;124;03m        [Parallel(n_jobs=2)]: Done 6 out of 6 | elapsed:  0.0s remaining: 0.0s\u001b[39;00m\n\u001b[0;32m   1194\u001b[0m \u001b[38;5;124;03m        [Parallel(n_jobs=2)]: Done 6 out of 6 | elapsed:  0.0s finished\u001b[39;00m\n\u001b[0;32m   1195\u001b[0m \n\u001b[0;32m   1196\u001b[0m \u001b[38;5;124;03m    '''\u001b[39;00m  \u001b[38;5;66;03m# noqa: E501\u001b[39;00m\n\u001b[0;32m   1197\u001b[0m     \u001b[38;5;28;01mdef\u001b[39;00m \u001b[38;5;21m__init__\u001b[39m(\n\u001b[0;32m   1198\u001b[0m         \u001b[38;5;28mself\u001b[39m,\n\u001b[0;32m   1199\u001b[0m         n_jobs\u001b[38;5;241m=\u001b[39mdefault_parallel_config[\u001b[38;5;124m\"\u001b[39m\u001b[38;5;124mn_jobs\u001b[39m\u001b[38;5;124m\"\u001b[39m],\n\u001b[1;32m   (...)\u001b[0m\n\u001b[0;32m   1211\u001b[0m     ):\n\u001b[0;32m   1212\u001b[0m         \u001b[38;5;66;03m# Initiate parent Logger class state\u001b[39;00m\n\u001b[0;32m   1213\u001b[0m         \u001b[38;5;28msuper\u001b[39m()\u001b[38;5;241m.\u001b[39m\u001b[38;5;21m__init__\u001b[39m()\n",
      "File \u001b[1;32m~\\anaconda3\\Lib\\site-packages\\joblib\\_parallel_backends.py:567\u001b[0m, in \u001b[0;36mwrap_future_result\u001b[1;34m(future, timeout)\u001b[0m\n\u001b[0;32m    557\u001b[0m         msg \u001b[38;5;241m=\u001b[39m (\n\u001b[0;32m    558\u001b[0m             \u001b[38;5;124m\"\u001b[39m\u001b[38;5;124mInside a Dask worker with daemon=True, \u001b[39m\u001b[38;5;124m\"\u001b[39m\n\u001b[0;32m    559\u001b[0m             \u001b[38;5;124m\"\u001b[39m\u001b[38;5;124msetting n_jobs=1.\u001b[39m\u001b[38;5;130;01m\\n\u001b[39;00m\u001b[38;5;124mPossible work-arounds:\u001b[39m\u001b[38;5;130;01m\\n\u001b[39;00m\u001b[38;5;124m\"\u001b[39m\n\u001b[1;32m   (...)\u001b[0m\n\u001b[0;32m    564\u001b[0m             \u001b[38;5;124m\"\u001b[39m\u001b[38;5;124mbefore creating your Dask cluster.\u001b[39m\u001b[38;5;124m\"\u001b[39m\n\u001b[0;32m    565\u001b[0m         )\n\u001b[0;32m    566\u001b[0m     \u001b[38;5;28;01melse\u001b[39;00m:\n\u001b[1;32m--> 567\u001b[0m         msg \u001b[38;5;241m=\u001b[39m (\n\u001b[0;32m    568\u001b[0m             \u001b[38;5;124m'\u001b[39m\u001b[38;5;124mLoky-backed parallel loops cannot be called in a\u001b[39m\u001b[38;5;124m'\u001b[39m\n\u001b[0;32m    569\u001b[0m             \u001b[38;5;124m'\u001b[39m\u001b[38;5;124m multiprocessing, setting n_jobs=1\u001b[39m\u001b[38;5;124m'\u001b[39m\n\u001b[0;32m    570\u001b[0m         )\n\u001b[0;32m    571\u001b[0m     warnings\u001b[38;5;241m.\u001b[39mwarn(msg, stacklevel\u001b[38;5;241m=\u001b[39m\u001b[38;5;241m3\u001b[39m)\n\u001b[0;32m    573\u001b[0m \u001b[38;5;28;01mreturn\u001b[39;00m \u001b[38;5;241m1\u001b[39m\n",
      "File \u001b[1;32m~\\anaconda3\\Lib\\concurrent\\futures\\_base.py:456\u001b[0m, in \u001b[0;36mFuture.result\u001b[1;34m(self, timeout)\u001b[0m\n\u001b[0;32m    454\u001b[0m     \u001b[38;5;28;01mraise\u001b[39;00m CancelledError()\n\u001b[0;32m    455\u001b[0m \u001b[38;5;28;01melif\u001b[39;00m \u001b[38;5;28mself\u001b[39m\u001b[38;5;241m.\u001b[39m_state \u001b[38;5;241m==\u001b[39m FINISHED:\n\u001b[1;32m--> 456\u001b[0m     \u001b[38;5;28;01mreturn\u001b[39;00m \u001b[38;5;28mself\u001b[39m\u001b[38;5;241m.\u001b[39m__get_result()\n\u001b[0;32m    457\u001b[0m \u001b[38;5;28;01melse\u001b[39;00m:\n\u001b[0;32m    458\u001b[0m     \u001b[38;5;28;01mraise\u001b[39;00m \u001b[38;5;167;01mTimeoutError\u001b[39;00m()\n",
      "File \u001b[1;32m~\\anaconda3\\Lib\\concurrent\\futures\\_base.py:401\u001b[0m, in \u001b[0;36mFuture.__get_result\u001b[1;34m(self)\u001b[0m\n\u001b[0;32m    399\u001b[0m \u001b[38;5;28;01mif\u001b[39;00m \u001b[38;5;28mself\u001b[39m\u001b[38;5;241m.\u001b[39m_exception:\n\u001b[0;32m    400\u001b[0m     \u001b[38;5;28;01mtry\u001b[39;00m:\n\u001b[1;32m--> 401\u001b[0m         \u001b[38;5;28;01mraise\u001b[39;00m \u001b[38;5;28mself\u001b[39m\u001b[38;5;241m.\u001b[39m_exception\n\u001b[0;32m    402\u001b[0m     \u001b[38;5;28;01mfinally\u001b[39;00m:\n\u001b[0;32m    403\u001b[0m         \u001b[38;5;66;03m# Break a reference cycle with the exception in self._exception\u001b[39;00m\n\u001b[0;32m    404\u001b[0m         \u001b[38;5;28mself\u001b[39m \u001b[38;5;241m=\u001b[39m \u001b[38;5;28;01mNone\u001b[39;00m\n",
      "\u001b[1;31mTerminatedWorkerError\u001b[0m: A worker process managed by the executor was unexpectedly terminated. This could be caused by a segmentation fault while calling the function or by an excessive memory usage causing the Operating System to kill the worker.\n"
     ]
    }
   ],
   "source": [
    "for name, alg in algorithms.items():\n",
    "\tplot_learning_curves(name, alg)"
   ]
  },
  {
   "cell_type": "markdown",
   "id": "c6123a5d-1577-4147-a8ed-bf1e24d0f227",
   "metadata": {},
   "source": [
    "## 6. Model Training"
   ]
  },
  {
   "cell_type": "code",
   "execution_count": 30,
   "id": "bcfb914b-53ad-4351-8619-88eaa2a37ff4",
   "metadata": {},
   "outputs": [],
   "source": [
    "model = Pipeline(steps=[\n",
    "\t(\"pre\", preprocessor),\n",
    "\t(\"rf\", RandomForestRegressor(n_estimators=10))\n",
    "])"
   ]
  },
  {
   "cell_type": "code",
   "execution_count": 31,
   "id": "3fddda3d-efd4-4418-b7ca-d8327604a688",
   "metadata": {},
   "outputs": [
    {
     "data": {
      "text/html": [
       "<style>#sk-container-id-1 {color: black;}#sk-container-id-1 pre{padding: 0;}#sk-container-id-1 div.sk-toggleable {background-color: white;}#sk-container-id-1 label.sk-toggleable__label {cursor: pointer;display: block;width: 100%;margin-bottom: 0;padding: 0.3em;box-sizing: border-box;text-align: center;}#sk-container-id-1 label.sk-toggleable__label-arrow:before {content: \"▸\";float: left;margin-right: 0.25em;color: #696969;}#sk-container-id-1 label.sk-toggleable__label-arrow:hover:before {color: black;}#sk-container-id-1 div.sk-estimator:hover label.sk-toggleable__label-arrow:before {color: black;}#sk-container-id-1 div.sk-toggleable__content {max-height: 0;max-width: 0;overflow: hidden;text-align: left;background-color: #f0f8ff;}#sk-container-id-1 div.sk-toggleable__content pre {margin: 0.2em;color: black;border-radius: 0.25em;background-color: #f0f8ff;}#sk-container-id-1 input.sk-toggleable__control:checked~div.sk-toggleable__content {max-height: 200px;max-width: 100%;overflow: auto;}#sk-container-id-1 input.sk-toggleable__control:checked~label.sk-toggleable__label-arrow:before {content: \"▾\";}#sk-container-id-1 div.sk-estimator input.sk-toggleable__control:checked~label.sk-toggleable__label {background-color: #d4ebff;}#sk-container-id-1 div.sk-label input.sk-toggleable__control:checked~label.sk-toggleable__label {background-color: #d4ebff;}#sk-container-id-1 input.sk-hidden--visually {border: 0;clip: rect(1px 1px 1px 1px);clip: rect(1px, 1px, 1px, 1px);height: 1px;margin: -1px;overflow: hidden;padding: 0;position: absolute;width: 1px;}#sk-container-id-1 div.sk-estimator {font-family: monospace;background-color: #f0f8ff;border: 1px dotted black;border-radius: 0.25em;box-sizing: border-box;margin-bottom: 0.5em;}#sk-container-id-1 div.sk-estimator:hover {background-color: #d4ebff;}#sk-container-id-1 div.sk-parallel-item::after {content: \"\";width: 100%;border-bottom: 1px solid gray;flex-grow: 1;}#sk-container-id-1 div.sk-label:hover label.sk-toggleable__label {background-color: #d4ebff;}#sk-container-id-1 div.sk-serial::before {content: \"\";position: absolute;border-left: 1px solid gray;box-sizing: border-box;top: 0;bottom: 0;left: 50%;z-index: 0;}#sk-container-id-1 div.sk-serial {display: flex;flex-direction: column;align-items: center;background-color: white;padding-right: 0.2em;padding-left: 0.2em;position: relative;}#sk-container-id-1 div.sk-item {position: relative;z-index: 1;}#sk-container-id-1 div.sk-parallel {display: flex;align-items: stretch;justify-content: center;background-color: white;position: relative;}#sk-container-id-1 div.sk-item::before, #sk-container-id-1 div.sk-parallel-item::before {content: \"\";position: absolute;border-left: 1px solid gray;box-sizing: border-box;top: 0;bottom: 0;left: 50%;z-index: -1;}#sk-container-id-1 div.sk-parallel-item {display: flex;flex-direction: column;z-index: 1;position: relative;background-color: white;}#sk-container-id-1 div.sk-parallel-item:first-child::after {align-self: flex-end;width: 50%;}#sk-container-id-1 div.sk-parallel-item:last-child::after {align-self: flex-start;width: 50%;}#sk-container-id-1 div.sk-parallel-item:only-child::after {width: 0;}#sk-container-id-1 div.sk-dashed-wrapped {border: 1px dashed gray;margin: 0 0.4em 0.5em 0.4em;box-sizing: border-box;padding-bottom: 0.4em;background-color: white;}#sk-container-id-1 div.sk-label label {font-family: monospace;font-weight: bold;display: inline-block;line-height: 1.2em;}#sk-container-id-1 div.sk-label-container {text-align: center;}#sk-container-id-1 div.sk-container {/* jupyter's `normalize.less` sets `[hidden] { display: none; }` but bootstrap.min.css set `[hidden] { display: none !important; }` so we also need the `!important` here to be able to override the default hidden behavior on the sphinx rendered scikit-learn.org. See: https://github.com/scikit-learn/scikit-learn/issues/21755 */display: inline-block !important;position: relative;}#sk-container-id-1 div.sk-text-repr-fallback {display: none;}</style><div id=\"sk-container-id-1\" class=\"sk-top-container\"><div class=\"sk-text-repr-fallback\"><pre>Pipeline(steps=[(&#x27;pre&#x27;,\n",
       "                 ColumnTransformer(transformers=[(&#x27;num&#x27;,\n",
       "                                                  Pipeline(steps=[(&#x27;imputer&#x27;,\n",
       "                                                                   SimpleImputer(strategy=&#x27;median&#x27;)),\n",
       "                                                                  (&#x27;scaler&#x27;,\n",
       "                                                                   StandardScaler())]),\n",
       "                                                  [&#x27;duration&#x27;, &#x27;total_stops&#x27;]),\n",
       "                                                 (&#x27;cat&#x27;,\n",
       "                                                  Pipeline(steps=[(&#x27;imputer&#x27;,\n",
       "                                                                   SimpleImputer(strategy=&#x27;most_frequent&#x27;)),\n",
       "                                                                  (&#x27;encoder&#x27;,\n",
       "                                                                   OneHotEncoder(handle_unknown=&#x27;ignore&#x27;,\n",
       "                                                                                 sparse_output=False))]),\n",
       "                                                  [&#x27;airline&#x27;, &#x27;source&#x27;,\n",
       "                                                   &#x27;...\n",
       "                                                                                                         &#x27;day_of_month&#x27;],\n",
       "                                                                                    format=&#x27;mixed&#x27;)),\n",
       "                                                                  (&#x27;scaler&#x27;,\n",
       "                                                                   StandardScaler())]),\n",
       "                                                  [&#x27;date_of_journey&#x27;]),\n",
       "                                                 (&#x27;time&#x27;,\n",
       "                                                  Pipeline(steps=[(&#x27;imputer&#x27;,\n",
       "                                                                   SimpleImputer(strategy=&#x27;most_frequent&#x27;)),\n",
       "                                                                  (&#x27;extractor&#x27;,\n",
       "                                                                   DatetimeFeatures(features_to_extract=[&#x27;hour&#x27;,\n",
       "                                                                                                         &#x27;minute&#x27;],\n",
       "                                                                                    format=&#x27;mixed&#x27;)),\n",
       "                                                                  (&#x27;scaler&#x27;,\n",
       "                                                                   StandardScaler())]),\n",
       "                                                  [&#x27;dep_time&#x27;,\n",
       "                                                   &#x27;arrival_time&#x27;])])),\n",
       "                (&#x27;rf&#x27;, RandomForestRegressor(n_estimators=10))])</pre><b>In a Jupyter environment, please rerun this cell to show the HTML representation or trust the notebook. <br />On GitHub, the HTML representation is unable to render, please try loading this page with nbviewer.org.</b></div><div class=\"sk-container\" hidden><div class=\"sk-item sk-dashed-wrapped\"><div class=\"sk-label-container\"><div class=\"sk-label sk-toggleable\"><input class=\"sk-toggleable__control sk-hidden--visually\" id=\"sk-estimator-id-1\" type=\"checkbox\" ><label for=\"sk-estimator-id-1\" class=\"sk-toggleable__label sk-toggleable__label-arrow\">Pipeline</label><div class=\"sk-toggleable__content\"><pre>Pipeline(steps=[(&#x27;pre&#x27;,\n",
       "                 ColumnTransformer(transformers=[(&#x27;num&#x27;,\n",
       "                                                  Pipeline(steps=[(&#x27;imputer&#x27;,\n",
       "                                                                   SimpleImputer(strategy=&#x27;median&#x27;)),\n",
       "                                                                  (&#x27;scaler&#x27;,\n",
       "                                                                   StandardScaler())]),\n",
       "                                                  [&#x27;duration&#x27;, &#x27;total_stops&#x27;]),\n",
       "                                                 (&#x27;cat&#x27;,\n",
       "                                                  Pipeline(steps=[(&#x27;imputer&#x27;,\n",
       "                                                                   SimpleImputer(strategy=&#x27;most_frequent&#x27;)),\n",
       "                                                                  (&#x27;encoder&#x27;,\n",
       "                                                                   OneHotEncoder(handle_unknown=&#x27;ignore&#x27;,\n",
       "                                                                                 sparse_output=False))]),\n",
       "                                                  [&#x27;airline&#x27;, &#x27;source&#x27;,\n",
       "                                                   &#x27;...\n",
       "                                                                                                         &#x27;day_of_month&#x27;],\n",
       "                                                                                    format=&#x27;mixed&#x27;)),\n",
       "                                                                  (&#x27;scaler&#x27;,\n",
       "                                                                   StandardScaler())]),\n",
       "                                                  [&#x27;date_of_journey&#x27;]),\n",
       "                                                 (&#x27;time&#x27;,\n",
       "                                                  Pipeline(steps=[(&#x27;imputer&#x27;,\n",
       "                                                                   SimpleImputer(strategy=&#x27;most_frequent&#x27;)),\n",
       "                                                                  (&#x27;extractor&#x27;,\n",
       "                                                                   DatetimeFeatures(features_to_extract=[&#x27;hour&#x27;,\n",
       "                                                                                                         &#x27;minute&#x27;],\n",
       "                                                                                    format=&#x27;mixed&#x27;)),\n",
       "                                                                  (&#x27;scaler&#x27;,\n",
       "                                                                   StandardScaler())]),\n",
       "                                                  [&#x27;dep_time&#x27;,\n",
       "                                                   &#x27;arrival_time&#x27;])])),\n",
       "                (&#x27;rf&#x27;, RandomForestRegressor(n_estimators=10))])</pre></div></div></div><div class=\"sk-serial\"><div class=\"sk-item sk-dashed-wrapped\"><div class=\"sk-label-container\"><div class=\"sk-label sk-toggleable\"><input class=\"sk-toggleable__control sk-hidden--visually\" id=\"sk-estimator-id-2\" type=\"checkbox\" ><label for=\"sk-estimator-id-2\" class=\"sk-toggleable__label sk-toggleable__label-arrow\">pre: ColumnTransformer</label><div class=\"sk-toggleable__content\"><pre>ColumnTransformer(transformers=[(&#x27;num&#x27;,\n",
       "                                 Pipeline(steps=[(&#x27;imputer&#x27;,\n",
       "                                                  SimpleImputer(strategy=&#x27;median&#x27;)),\n",
       "                                                 (&#x27;scaler&#x27;, StandardScaler())]),\n",
       "                                 [&#x27;duration&#x27;, &#x27;total_stops&#x27;]),\n",
       "                                (&#x27;cat&#x27;,\n",
       "                                 Pipeline(steps=[(&#x27;imputer&#x27;,\n",
       "                                                  SimpleImputer(strategy=&#x27;most_frequent&#x27;)),\n",
       "                                                 (&#x27;encoder&#x27;,\n",
       "                                                  OneHotEncoder(handle_unknown=&#x27;ignore&#x27;,\n",
       "                                                                sparse_output=False))]),\n",
       "                                 [&#x27;airline&#x27;, &#x27;source&#x27;, &#x27;destination&#x27;,\n",
       "                                  &#x27;additiona...\n",
       "                                                  DatetimeFeatures(features_to_extract=[&#x27;month&#x27;,\n",
       "                                                                                        &#x27;week&#x27;,\n",
       "                                                                                        &#x27;day_of_week&#x27;,\n",
       "                                                                                        &#x27;day_of_month&#x27;],\n",
       "                                                                   format=&#x27;mixed&#x27;)),\n",
       "                                                 (&#x27;scaler&#x27;, StandardScaler())]),\n",
       "                                 [&#x27;date_of_journey&#x27;]),\n",
       "                                (&#x27;time&#x27;,\n",
       "                                 Pipeline(steps=[(&#x27;imputer&#x27;,\n",
       "                                                  SimpleImputer(strategy=&#x27;most_frequent&#x27;)),\n",
       "                                                 (&#x27;extractor&#x27;,\n",
       "                                                  DatetimeFeatures(features_to_extract=[&#x27;hour&#x27;,\n",
       "                                                                                        &#x27;minute&#x27;],\n",
       "                                                                   format=&#x27;mixed&#x27;)),\n",
       "                                                 (&#x27;scaler&#x27;, StandardScaler())]),\n",
       "                                 [&#x27;dep_time&#x27;, &#x27;arrival_time&#x27;])])</pre></div></div></div><div class=\"sk-parallel\"><div class=\"sk-parallel-item\"><div class=\"sk-item\"><div class=\"sk-label-container\"><div class=\"sk-label sk-toggleable\"><input class=\"sk-toggleable__control sk-hidden--visually\" id=\"sk-estimator-id-3\" type=\"checkbox\" ><label for=\"sk-estimator-id-3\" class=\"sk-toggleable__label sk-toggleable__label-arrow\">num</label><div class=\"sk-toggleable__content\"><pre>[&#x27;duration&#x27;, &#x27;total_stops&#x27;]</pre></div></div></div><div class=\"sk-serial\"><div class=\"sk-item\"><div class=\"sk-serial\"><div class=\"sk-item\"><div class=\"sk-estimator sk-toggleable\"><input class=\"sk-toggleable__control sk-hidden--visually\" id=\"sk-estimator-id-4\" type=\"checkbox\" ><label for=\"sk-estimator-id-4\" class=\"sk-toggleable__label sk-toggleable__label-arrow\">SimpleImputer</label><div class=\"sk-toggleable__content\"><pre>SimpleImputer(strategy=&#x27;median&#x27;)</pre></div></div></div><div class=\"sk-item\"><div class=\"sk-estimator sk-toggleable\"><input class=\"sk-toggleable__control sk-hidden--visually\" id=\"sk-estimator-id-5\" type=\"checkbox\" ><label for=\"sk-estimator-id-5\" class=\"sk-toggleable__label sk-toggleable__label-arrow\">StandardScaler</label><div class=\"sk-toggleable__content\"><pre>StandardScaler()</pre></div></div></div></div></div></div></div></div><div class=\"sk-parallel-item\"><div class=\"sk-item\"><div class=\"sk-label-container\"><div class=\"sk-label sk-toggleable\"><input class=\"sk-toggleable__control sk-hidden--visually\" id=\"sk-estimator-id-6\" type=\"checkbox\" ><label for=\"sk-estimator-id-6\" class=\"sk-toggleable__label sk-toggleable__label-arrow\">cat</label><div class=\"sk-toggleable__content\"><pre>[&#x27;airline&#x27;, &#x27;source&#x27;, &#x27;destination&#x27;, &#x27;additional_info&#x27;]</pre></div></div></div><div class=\"sk-serial\"><div class=\"sk-item\"><div class=\"sk-serial\"><div class=\"sk-item\"><div class=\"sk-estimator sk-toggleable\"><input class=\"sk-toggleable__control sk-hidden--visually\" id=\"sk-estimator-id-7\" type=\"checkbox\" ><label for=\"sk-estimator-id-7\" class=\"sk-toggleable__label sk-toggleable__label-arrow\">SimpleImputer</label><div class=\"sk-toggleable__content\"><pre>SimpleImputer(strategy=&#x27;most_frequent&#x27;)</pre></div></div></div><div class=\"sk-item\"><div class=\"sk-estimator sk-toggleable\"><input class=\"sk-toggleable__control sk-hidden--visually\" id=\"sk-estimator-id-8\" type=\"checkbox\" ><label for=\"sk-estimator-id-8\" class=\"sk-toggleable__label sk-toggleable__label-arrow\">OneHotEncoder</label><div class=\"sk-toggleable__content\"><pre>OneHotEncoder(handle_unknown=&#x27;ignore&#x27;, sparse_output=False)</pre></div></div></div></div></div></div></div></div><div class=\"sk-parallel-item\"><div class=\"sk-item\"><div class=\"sk-label-container\"><div class=\"sk-label sk-toggleable\"><input class=\"sk-toggleable__control sk-hidden--visually\" id=\"sk-estimator-id-9\" type=\"checkbox\" ><label for=\"sk-estimator-id-9\" class=\"sk-toggleable__label sk-toggleable__label-arrow\">doj</label><div class=\"sk-toggleable__content\"><pre>[&#x27;date_of_journey&#x27;]</pre></div></div></div><div class=\"sk-serial\"><div class=\"sk-item\"><div class=\"sk-serial\"><div class=\"sk-item\"><div class=\"sk-estimator sk-toggleable\"><input class=\"sk-toggleable__control sk-hidden--visually\" id=\"sk-estimator-id-10\" type=\"checkbox\" ><label for=\"sk-estimator-id-10\" class=\"sk-toggleable__label sk-toggleable__label-arrow\">SimpleImputer</label><div class=\"sk-toggleable__content\"><pre>SimpleImputer(strategy=&#x27;most_frequent&#x27;)</pre></div></div></div><div class=\"sk-item\"><div class=\"sk-estimator sk-toggleable\"><input class=\"sk-toggleable__control sk-hidden--visually\" id=\"sk-estimator-id-11\" type=\"checkbox\" ><label for=\"sk-estimator-id-11\" class=\"sk-toggleable__label sk-toggleable__label-arrow\">DatetimeFeatures</label><div class=\"sk-toggleable__content\"><pre>DatetimeFeatures(features_to_extract=[&#x27;month&#x27;, &#x27;week&#x27;, &#x27;day_of_week&#x27;,\n",
       "                                      &#x27;day_of_month&#x27;],\n",
       "                 format=&#x27;mixed&#x27;)</pre></div></div></div><div class=\"sk-item\"><div class=\"sk-estimator sk-toggleable\"><input class=\"sk-toggleable__control sk-hidden--visually\" id=\"sk-estimator-id-12\" type=\"checkbox\" ><label for=\"sk-estimator-id-12\" class=\"sk-toggleable__label sk-toggleable__label-arrow\">StandardScaler</label><div class=\"sk-toggleable__content\"><pre>StandardScaler()</pre></div></div></div></div></div></div></div></div><div class=\"sk-parallel-item\"><div class=\"sk-item\"><div class=\"sk-label-container\"><div class=\"sk-label sk-toggleable\"><input class=\"sk-toggleable__control sk-hidden--visually\" id=\"sk-estimator-id-13\" type=\"checkbox\" ><label for=\"sk-estimator-id-13\" class=\"sk-toggleable__label sk-toggleable__label-arrow\">time</label><div class=\"sk-toggleable__content\"><pre>[&#x27;dep_time&#x27;, &#x27;arrival_time&#x27;]</pre></div></div></div><div class=\"sk-serial\"><div class=\"sk-item\"><div class=\"sk-serial\"><div class=\"sk-item\"><div class=\"sk-estimator sk-toggleable\"><input class=\"sk-toggleable__control sk-hidden--visually\" id=\"sk-estimator-id-14\" type=\"checkbox\" ><label for=\"sk-estimator-id-14\" class=\"sk-toggleable__label sk-toggleable__label-arrow\">SimpleImputer</label><div class=\"sk-toggleable__content\"><pre>SimpleImputer(strategy=&#x27;most_frequent&#x27;)</pre></div></div></div><div class=\"sk-item\"><div class=\"sk-estimator sk-toggleable\"><input class=\"sk-toggleable__control sk-hidden--visually\" id=\"sk-estimator-id-15\" type=\"checkbox\" ><label for=\"sk-estimator-id-15\" class=\"sk-toggleable__label sk-toggleable__label-arrow\">DatetimeFeatures</label><div class=\"sk-toggleable__content\"><pre>DatetimeFeatures(features_to_extract=[&#x27;hour&#x27;, &#x27;minute&#x27;], format=&#x27;mixed&#x27;)</pre></div></div></div><div class=\"sk-item\"><div class=\"sk-estimator sk-toggleable\"><input class=\"sk-toggleable__control sk-hidden--visually\" id=\"sk-estimator-id-16\" type=\"checkbox\" ><label for=\"sk-estimator-id-16\" class=\"sk-toggleable__label sk-toggleable__label-arrow\">StandardScaler</label><div class=\"sk-toggleable__content\"><pre>StandardScaler()</pre></div></div></div></div></div></div></div></div></div></div><div class=\"sk-item\"><div class=\"sk-estimator sk-toggleable\"><input class=\"sk-toggleable__control sk-hidden--visually\" id=\"sk-estimator-id-17\" type=\"checkbox\" ><label for=\"sk-estimator-id-17\" class=\"sk-toggleable__label sk-toggleable__label-arrow\">RandomForestRegressor</label><div class=\"sk-toggleable__content\"><pre>RandomForestRegressor(n_estimators=10)</pre></div></div></div></div></div></div></div>"
      ],
      "text/plain": [
       "Pipeline(steps=[('pre',\n",
       "                 ColumnTransformer(transformers=[('num',\n",
       "                                                  Pipeline(steps=[('imputer',\n",
       "                                                                   SimpleImputer(strategy='median')),\n",
       "                                                                  ('scaler',\n",
       "                                                                   StandardScaler())]),\n",
       "                                                  ['duration', 'total_stops']),\n",
       "                                                 ('cat',\n",
       "                                                  Pipeline(steps=[('imputer',\n",
       "                                                                   SimpleImputer(strategy='most_frequent')),\n",
       "                                                                  ('encoder',\n",
       "                                                                   OneHotEncoder(handle_unknown='ignore',\n",
       "                                                                                 sparse_output=False))]),\n",
       "                                                  ['airline', 'source',\n",
       "                                                   '...\n",
       "                                                                                                         'day_of_month'],\n",
       "                                                                                    format='mixed')),\n",
       "                                                                  ('scaler',\n",
       "                                                                   StandardScaler())]),\n",
       "                                                  ['date_of_journey']),\n",
       "                                                 ('time',\n",
       "                                                  Pipeline(steps=[('imputer',\n",
       "                                                                   SimpleImputer(strategy='most_frequent')),\n",
       "                                                                  ('extractor',\n",
       "                                                                   DatetimeFeatures(features_to_extract=['hour',\n",
       "                                                                                                         'minute'],\n",
       "                                                                                    format='mixed')),\n",
       "                                                                  ('scaler',\n",
       "                                                                   StandardScaler())]),\n",
       "                                                  ['dep_time',\n",
       "                                                   'arrival_time'])])),\n",
       "                ('rf', RandomForestRegressor(n_estimators=10))])"
      ]
     },
     "execution_count": 31,
     "metadata": {},
     "output_type": "execute_result"
    }
   ],
   "source": [
    "model.fit(X_data, y_data)"
   ]
  },
  {
   "cell_type": "markdown",
   "id": "170963e4-8425-492b-81ea-59b83f537e6e",
   "metadata": {},
   "source": [
    "## 7. Model Evaluation"
   ]
  },
  {
   "cell_type": "code",
   "execution_count": 32,
   "id": "a2a5ceaa-14a1-479f-9324-9654bc7ac4a6",
   "metadata": {},
   "outputs": [],
   "source": [
    "def evaluate_model(X, y):\n",
    "\ty_pred = model.predict(X)\n",
    "\treturn r2_score(y, y_pred)"
   ]
  },
  {
   "cell_type": "code",
   "execution_count": 33,
   "id": "d8792845-e009-4c9d-9963-016c866971f7",
   "metadata": {},
   "outputs": [
    {
     "name": "stdout",
     "output_type": "stream",
     "text": [
      "R2 score on Training data is = 0.9591398054405318\n"
     ]
    }
   ],
   "source": [
    "print(f\"R2 score on Training data is = {evaluate_model(X_data, y_data)}\")"
   ]
  },
  {
   "cell_type": "code",
   "execution_count": 34,
   "id": "44f5f83e-1caa-47a6-98fe-69f206382e1d",
   "metadata": {},
   "outputs": [
    {
     "name": "stdout",
     "output_type": "stream",
     "text": [
      "R2 score on Test data is = 0.6336754915179887\n"
     ]
    }
   ],
   "source": [
    "print(f\"R2 score on Test data is = {evaluate_model(X_test, y_test)}\")"
   ]
  },
  {
   "cell_type": "markdown",
   "id": "92d0132a-83d8-4683-b31c-d20ec3770382",
   "metadata": {},
   "source": [
    "## 8. Model Persistence"
   ]
  },
  {
   "cell_type": "code",
   "execution_count": 35,
   "id": "97e0e065-f98e-429c-bae6-d30f81b2e94a",
   "metadata": {},
   "outputs": [
    {
     "data": {
      "text/plain": [
       "['model.joblib']"
      ]
     },
     "execution_count": 35,
     "metadata": {},
     "output_type": "execute_result"
    }
   ],
   "source": [
    "joblib.dump(model, \"model.joblib\")"
   ]
  },
  {
   "cell_type": "code",
   "execution_count": 36,
   "id": "db8413c6-898c-468a-8762-0d1b47b1a4b1",
   "metadata": {},
   "outputs": [
    {
     "data": {
      "text/html": [
       "<style>#sk-container-id-2 {color: black;}#sk-container-id-2 pre{padding: 0;}#sk-container-id-2 div.sk-toggleable {background-color: white;}#sk-container-id-2 label.sk-toggleable__label {cursor: pointer;display: block;width: 100%;margin-bottom: 0;padding: 0.3em;box-sizing: border-box;text-align: center;}#sk-container-id-2 label.sk-toggleable__label-arrow:before {content: \"▸\";float: left;margin-right: 0.25em;color: #696969;}#sk-container-id-2 label.sk-toggleable__label-arrow:hover:before {color: black;}#sk-container-id-2 div.sk-estimator:hover label.sk-toggleable__label-arrow:before {color: black;}#sk-container-id-2 div.sk-toggleable__content {max-height: 0;max-width: 0;overflow: hidden;text-align: left;background-color: #f0f8ff;}#sk-container-id-2 div.sk-toggleable__content pre {margin: 0.2em;color: black;border-radius: 0.25em;background-color: #f0f8ff;}#sk-container-id-2 input.sk-toggleable__control:checked~div.sk-toggleable__content {max-height: 200px;max-width: 100%;overflow: auto;}#sk-container-id-2 input.sk-toggleable__control:checked~label.sk-toggleable__label-arrow:before {content: \"▾\";}#sk-container-id-2 div.sk-estimator input.sk-toggleable__control:checked~label.sk-toggleable__label {background-color: #d4ebff;}#sk-container-id-2 div.sk-label input.sk-toggleable__control:checked~label.sk-toggleable__label {background-color: #d4ebff;}#sk-container-id-2 input.sk-hidden--visually {border: 0;clip: rect(1px 1px 1px 1px);clip: rect(1px, 1px, 1px, 1px);height: 1px;margin: -1px;overflow: hidden;padding: 0;position: absolute;width: 1px;}#sk-container-id-2 div.sk-estimator {font-family: monospace;background-color: #f0f8ff;border: 1px dotted black;border-radius: 0.25em;box-sizing: border-box;margin-bottom: 0.5em;}#sk-container-id-2 div.sk-estimator:hover {background-color: #d4ebff;}#sk-container-id-2 div.sk-parallel-item::after {content: \"\";width: 100%;border-bottom: 1px solid gray;flex-grow: 1;}#sk-container-id-2 div.sk-label:hover label.sk-toggleable__label {background-color: #d4ebff;}#sk-container-id-2 div.sk-serial::before {content: \"\";position: absolute;border-left: 1px solid gray;box-sizing: border-box;top: 0;bottom: 0;left: 50%;z-index: 0;}#sk-container-id-2 div.sk-serial {display: flex;flex-direction: column;align-items: center;background-color: white;padding-right: 0.2em;padding-left: 0.2em;position: relative;}#sk-container-id-2 div.sk-item {position: relative;z-index: 1;}#sk-container-id-2 div.sk-parallel {display: flex;align-items: stretch;justify-content: center;background-color: white;position: relative;}#sk-container-id-2 div.sk-item::before, #sk-container-id-2 div.sk-parallel-item::before {content: \"\";position: absolute;border-left: 1px solid gray;box-sizing: border-box;top: 0;bottom: 0;left: 50%;z-index: -1;}#sk-container-id-2 div.sk-parallel-item {display: flex;flex-direction: column;z-index: 1;position: relative;background-color: white;}#sk-container-id-2 div.sk-parallel-item:first-child::after {align-self: flex-end;width: 50%;}#sk-container-id-2 div.sk-parallel-item:last-child::after {align-self: flex-start;width: 50%;}#sk-container-id-2 div.sk-parallel-item:only-child::after {width: 0;}#sk-container-id-2 div.sk-dashed-wrapped {border: 1px dashed gray;margin: 0 0.4em 0.5em 0.4em;box-sizing: border-box;padding-bottom: 0.4em;background-color: white;}#sk-container-id-2 div.sk-label label {font-family: monospace;font-weight: bold;display: inline-block;line-height: 1.2em;}#sk-container-id-2 div.sk-label-container {text-align: center;}#sk-container-id-2 div.sk-container {/* jupyter's `normalize.less` sets `[hidden] { display: none; }` but bootstrap.min.css set `[hidden] { display: none !important; }` so we also need the `!important` here to be able to override the default hidden behavior on the sphinx rendered scikit-learn.org. See: https://github.com/scikit-learn/scikit-learn/issues/21755 */display: inline-block !important;position: relative;}#sk-container-id-2 div.sk-text-repr-fallback {display: none;}</style><div id=\"sk-container-id-2\" class=\"sk-top-container\"><div class=\"sk-text-repr-fallback\"><pre>Pipeline(steps=[(&#x27;pre&#x27;,\n",
       "                 ColumnTransformer(transformers=[(&#x27;num&#x27;,\n",
       "                                                  Pipeline(steps=[(&#x27;imputer&#x27;,\n",
       "                                                                   SimpleImputer(strategy=&#x27;median&#x27;)),\n",
       "                                                                  (&#x27;scaler&#x27;,\n",
       "                                                                   StandardScaler())]),\n",
       "                                                  [&#x27;duration&#x27;, &#x27;total_stops&#x27;]),\n",
       "                                                 (&#x27;cat&#x27;,\n",
       "                                                  Pipeline(steps=[(&#x27;imputer&#x27;,\n",
       "                                                                   SimpleImputer(strategy=&#x27;most_frequent&#x27;)),\n",
       "                                                                  (&#x27;encoder&#x27;,\n",
       "                                                                   OneHotEncoder(handle_unknown=&#x27;ignore&#x27;,\n",
       "                                                                                 sparse_output=False))]),\n",
       "                                                  [&#x27;airline&#x27;, &#x27;source&#x27;,\n",
       "                                                   &#x27;...\n",
       "                                                                                                         &#x27;day_of_month&#x27;],\n",
       "                                                                                    format=&#x27;mixed&#x27;)),\n",
       "                                                                  (&#x27;scaler&#x27;,\n",
       "                                                                   StandardScaler())]),\n",
       "                                                  [&#x27;date_of_journey&#x27;]),\n",
       "                                                 (&#x27;time&#x27;,\n",
       "                                                  Pipeline(steps=[(&#x27;imputer&#x27;,\n",
       "                                                                   SimpleImputer(strategy=&#x27;most_frequent&#x27;)),\n",
       "                                                                  (&#x27;extractor&#x27;,\n",
       "                                                                   DatetimeFeatures(features_to_extract=[&#x27;hour&#x27;,\n",
       "                                                                                                         &#x27;minute&#x27;],\n",
       "                                                                                    format=&#x27;mixed&#x27;)),\n",
       "                                                                  (&#x27;scaler&#x27;,\n",
       "                                                                   StandardScaler())]),\n",
       "                                                  [&#x27;dep_time&#x27;,\n",
       "                                                   &#x27;arrival_time&#x27;])])),\n",
       "                (&#x27;rf&#x27;, RandomForestRegressor(n_estimators=10))])</pre><b>In a Jupyter environment, please rerun this cell to show the HTML representation or trust the notebook. <br />On GitHub, the HTML representation is unable to render, please try loading this page with nbviewer.org.</b></div><div class=\"sk-container\" hidden><div class=\"sk-item sk-dashed-wrapped\"><div class=\"sk-label-container\"><div class=\"sk-label sk-toggleable\"><input class=\"sk-toggleable__control sk-hidden--visually\" id=\"sk-estimator-id-18\" type=\"checkbox\" ><label for=\"sk-estimator-id-18\" class=\"sk-toggleable__label sk-toggleable__label-arrow\">Pipeline</label><div class=\"sk-toggleable__content\"><pre>Pipeline(steps=[(&#x27;pre&#x27;,\n",
       "                 ColumnTransformer(transformers=[(&#x27;num&#x27;,\n",
       "                                                  Pipeline(steps=[(&#x27;imputer&#x27;,\n",
       "                                                                   SimpleImputer(strategy=&#x27;median&#x27;)),\n",
       "                                                                  (&#x27;scaler&#x27;,\n",
       "                                                                   StandardScaler())]),\n",
       "                                                  [&#x27;duration&#x27;, &#x27;total_stops&#x27;]),\n",
       "                                                 (&#x27;cat&#x27;,\n",
       "                                                  Pipeline(steps=[(&#x27;imputer&#x27;,\n",
       "                                                                   SimpleImputer(strategy=&#x27;most_frequent&#x27;)),\n",
       "                                                                  (&#x27;encoder&#x27;,\n",
       "                                                                   OneHotEncoder(handle_unknown=&#x27;ignore&#x27;,\n",
       "                                                                                 sparse_output=False))]),\n",
       "                                                  [&#x27;airline&#x27;, &#x27;source&#x27;,\n",
       "                                                   &#x27;...\n",
       "                                                                                                         &#x27;day_of_month&#x27;],\n",
       "                                                                                    format=&#x27;mixed&#x27;)),\n",
       "                                                                  (&#x27;scaler&#x27;,\n",
       "                                                                   StandardScaler())]),\n",
       "                                                  [&#x27;date_of_journey&#x27;]),\n",
       "                                                 (&#x27;time&#x27;,\n",
       "                                                  Pipeline(steps=[(&#x27;imputer&#x27;,\n",
       "                                                                   SimpleImputer(strategy=&#x27;most_frequent&#x27;)),\n",
       "                                                                  (&#x27;extractor&#x27;,\n",
       "                                                                   DatetimeFeatures(features_to_extract=[&#x27;hour&#x27;,\n",
       "                                                                                                         &#x27;minute&#x27;],\n",
       "                                                                                    format=&#x27;mixed&#x27;)),\n",
       "                                                                  (&#x27;scaler&#x27;,\n",
       "                                                                   StandardScaler())]),\n",
       "                                                  [&#x27;dep_time&#x27;,\n",
       "                                                   &#x27;arrival_time&#x27;])])),\n",
       "                (&#x27;rf&#x27;, RandomForestRegressor(n_estimators=10))])</pre></div></div></div><div class=\"sk-serial\"><div class=\"sk-item sk-dashed-wrapped\"><div class=\"sk-label-container\"><div class=\"sk-label sk-toggleable\"><input class=\"sk-toggleable__control sk-hidden--visually\" id=\"sk-estimator-id-19\" type=\"checkbox\" ><label for=\"sk-estimator-id-19\" class=\"sk-toggleable__label sk-toggleable__label-arrow\">pre: ColumnTransformer</label><div class=\"sk-toggleable__content\"><pre>ColumnTransformer(transformers=[(&#x27;num&#x27;,\n",
       "                                 Pipeline(steps=[(&#x27;imputer&#x27;,\n",
       "                                                  SimpleImputer(strategy=&#x27;median&#x27;)),\n",
       "                                                 (&#x27;scaler&#x27;, StandardScaler())]),\n",
       "                                 [&#x27;duration&#x27;, &#x27;total_stops&#x27;]),\n",
       "                                (&#x27;cat&#x27;,\n",
       "                                 Pipeline(steps=[(&#x27;imputer&#x27;,\n",
       "                                                  SimpleImputer(strategy=&#x27;most_frequent&#x27;)),\n",
       "                                                 (&#x27;encoder&#x27;,\n",
       "                                                  OneHotEncoder(handle_unknown=&#x27;ignore&#x27;,\n",
       "                                                                sparse_output=False))]),\n",
       "                                 [&#x27;airline&#x27;, &#x27;source&#x27;, &#x27;destination&#x27;,\n",
       "                                  &#x27;additiona...\n",
       "                                                  DatetimeFeatures(features_to_extract=[&#x27;month&#x27;,\n",
       "                                                                                        &#x27;week&#x27;,\n",
       "                                                                                        &#x27;day_of_week&#x27;,\n",
       "                                                                                        &#x27;day_of_month&#x27;],\n",
       "                                                                   format=&#x27;mixed&#x27;)),\n",
       "                                                 (&#x27;scaler&#x27;, StandardScaler())]),\n",
       "                                 [&#x27;date_of_journey&#x27;]),\n",
       "                                (&#x27;time&#x27;,\n",
       "                                 Pipeline(steps=[(&#x27;imputer&#x27;,\n",
       "                                                  SimpleImputer(strategy=&#x27;most_frequent&#x27;)),\n",
       "                                                 (&#x27;extractor&#x27;,\n",
       "                                                  DatetimeFeatures(features_to_extract=[&#x27;hour&#x27;,\n",
       "                                                                                        &#x27;minute&#x27;],\n",
       "                                                                   format=&#x27;mixed&#x27;)),\n",
       "                                                 (&#x27;scaler&#x27;, StandardScaler())]),\n",
       "                                 [&#x27;dep_time&#x27;, &#x27;arrival_time&#x27;])])</pre></div></div></div><div class=\"sk-parallel\"><div class=\"sk-parallel-item\"><div class=\"sk-item\"><div class=\"sk-label-container\"><div class=\"sk-label sk-toggleable\"><input class=\"sk-toggleable__control sk-hidden--visually\" id=\"sk-estimator-id-20\" type=\"checkbox\" ><label for=\"sk-estimator-id-20\" class=\"sk-toggleable__label sk-toggleable__label-arrow\">num</label><div class=\"sk-toggleable__content\"><pre>[&#x27;duration&#x27;, &#x27;total_stops&#x27;]</pre></div></div></div><div class=\"sk-serial\"><div class=\"sk-item\"><div class=\"sk-serial\"><div class=\"sk-item\"><div class=\"sk-estimator sk-toggleable\"><input class=\"sk-toggleable__control sk-hidden--visually\" id=\"sk-estimator-id-21\" type=\"checkbox\" ><label for=\"sk-estimator-id-21\" class=\"sk-toggleable__label sk-toggleable__label-arrow\">SimpleImputer</label><div class=\"sk-toggleable__content\"><pre>SimpleImputer(strategy=&#x27;median&#x27;)</pre></div></div></div><div class=\"sk-item\"><div class=\"sk-estimator sk-toggleable\"><input class=\"sk-toggleable__control sk-hidden--visually\" id=\"sk-estimator-id-22\" type=\"checkbox\" ><label for=\"sk-estimator-id-22\" class=\"sk-toggleable__label sk-toggleable__label-arrow\">StandardScaler</label><div class=\"sk-toggleable__content\"><pre>StandardScaler()</pre></div></div></div></div></div></div></div></div><div class=\"sk-parallel-item\"><div class=\"sk-item\"><div class=\"sk-label-container\"><div class=\"sk-label sk-toggleable\"><input class=\"sk-toggleable__control sk-hidden--visually\" id=\"sk-estimator-id-23\" type=\"checkbox\" ><label for=\"sk-estimator-id-23\" class=\"sk-toggleable__label sk-toggleable__label-arrow\">cat</label><div class=\"sk-toggleable__content\"><pre>[&#x27;airline&#x27;, &#x27;source&#x27;, &#x27;destination&#x27;, &#x27;additional_info&#x27;]</pre></div></div></div><div class=\"sk-serial\"><div class=\"sk-item\"><div class=\"sk-serial\"><div class=\"sk-item\"><div class=\"sk-estimator sk-toggleable\"><input class=\"sk-toggleable__control sk-hidden--visually\" id=\"sk-estimator-id-24\" type=\"checkbox\" ><label for=\"sk-estimator-id-24\" class=\"sk-toggleable__label sk-toggleable__label-arrow\">SimpleImputer</label><div class=\"sk-toggleable__content\"><pre>SimpleImputer(strategy=&#x27;most_frequent&#x27;)</pre></div></div></div><div class=\"sk-item\"><div class=\"sk-estimator sk-toggleable\"><input class=\"sk-toggleable__control sk-hidden--visually\" id=\"sk-estimator-id-25\" type=\"checkbox\" ><label for=\"sk-estimator-id-25\" class=\"sk-toggleable__label sk-toggleable__label-arrow\">OneHotEncoder</label><div class=\"sk-toggleable__content\"><pre>OneHotEncoder(handle_unknown=&#x27;ignore&#x27;, sparse_output=False)</pre></div></div></div></div></div></div></div></div><div class=\"sk-parallel-item\"><div class=\"sk-item\"><div class=\"sk-label-container\"><div class=\"sk-label sk-toggleable\"><input class=\"sk-toggleable__control sk-hidden--visually\" id=\"sk-estimator-id-26\" type=\"checkbox\" ><label for=\"sk-estimator-id-26\" class=\"sk-toggleable__label sk-toggleable__label-arrow\">doj</label><div class=\"sk-toggleable__content\"><pre>[&#x27;date_of_journey&#x27;]</pre></div></div></div><div class=\"sk-serial\"><div class=\"sk-item\"><div class=\"sk-serial\"><div class=\"sk-item\"><div class=\"sk-estimator sk-toggleable\"><input class=\"sk-toggleable__control sk-hidden--visually\" id=\"sk-estimator-id-27\" type=\"checkbox\" ><label for=\"sk-estimator-id-27\" class=\"sk-toggleable__label sk-toggleable__label-arrow\">SimpleImputer</label><div class=\"sk-toggleable__content\"><pre>SimpleImputer(strategy=&#x27;most_frequent&#x27;)</pre></div></div></div><div class=\"sk-item\"><div class=\"sk-estimator sk-toggleable\"><input class=\"sk-toggleable__control sk-hidden--visually\" id=\"sk-estimator-id-28\" type=\"checkbox\" ><label for=\"sk-estimator-id-28\" class=\"sk-toggleable__label sk-toggleable__label-arrow\">DatetimeFeatures</label><div class=\"sk-toggleable__content\"><pre>DatetimeFeatures(features_to_extract=[&#x27;month&#x27;, &#x27;week&#x27;, &#x27;day_of_week&#x27;,\n",
       "                                      &#x27;day_of_month&#x27;],\n",
       "                 format=&#x27;mixed&#x27;)</pre></div></div></div><div class=\"sk-item\"><div class=\"sk-estimator sk-toggleable\"><input class=\"sk-toggleable__control sk-hidden--visually\" id=\"sk-estimator-id-29\" type=\"checkbox\" ><label for=\"sk-estimator-id-29\" class=\"sk-toggleable__label sk-toggleable__label-arrow\">StandardScaler</label><div class=\"sk-toggleable__content\"><pre>StandardScaler()</pre></div></div></div></div></div></div></div></div><div class=\"sk-parallel-item\"><div class=\"sk-item\"><div class=\"sk-label-container\"><div class=\"sk-label sk-toggleable\"><input class=\"sk-toggleable__control sk-hidden--visually\" id=\"sk-estimator-id-30\" type=\"checkbox\" ><label for=\"sk-estimator-id-30\" class=\"sk-toggleable__label sk-toggleable__label-arrow\">time</label><div class=\"sk-toggleable__content\"><pre>[&#x27;dep_time&#x27;, &#x27;arrival_time&#x27;]</pre></div></div></div><div class=\"sk-serial\"><div class=\"sk-item\"><div class=\"sk-serial\"><div class=\"sk-item\"><div class=\"sk-estimator sk-toggleable\"><input class=\"sk-toggleable__control sk-hidden--visually\" id=\"sk-estimator-id-31\" type=\"checkbox\" ><label for=\"sk-estimator-id-31\" class=\"sk-toggleable__label sk-toggleable__label-arrow\">SimpleImputer</label><div class=\"sk-toggleable__content\"><pre>SimpleImputer(strategy=&#x27;most_frequent&#x27;)</pre></div></div></div><div class=\"sk-item\"><div class=\"sk-estimator sk-toggleable\"><input class=\"sk-toggleable__control sk-hidden--visually\" id=\"sk-estimator-id-32\" type=\"checkbox\" ><label for=\"sk-estimator-id-32\" class=\"sk-toggleable__label sk-toggleable__label-arrow\">DatetimeFeatures</label><div class=\"sk-toggleable__content\"><pre>DatetimeFeatures(features_to_extract=[&#x27;hour&#x27;, &#x27;minute&#x27;], format=&#x27;mixed&#x27;)</pre></div></div></div><div class=\"sk-item\"><div class=\"sk-estimator sk-toggleable\"><input class=\"sk-toggleable__control sk-hidden--visually\" id=\"sk-estimator-id-33\" type=\"checkbox\" ><label for=\"sk-estimator-id-33\" class=\"sk-toggleable__label sk-toggleable__label-arrow\">StandardScaler</label><div class=\"sk-toggleable__content\"><pre>StandardScaler()</pre></div></div></div></div></div></div></div></div></div></div><div class=\"sk-item\"><div class=\"sk-estimator sk-toggleable\"><input class=\"sk-toggleable__control sk-hidden--visually\" id=\"sk-estimator-id-34\" type=\"checkbox\" ><label for=\"sk-estimator-id-34\" class=\"sk-toggleable__label sk-toggleable__label-arrow\">RandomForestRegressor</label><div class=\"sk-toggleable__content\"><pre>RandomForestRegressor(n_estimators=10)</pre></div></div></div></div></div></div></div>"
      ],
      "text/plain": [
       "Pipeline(steps=[('pre',\n",
       "                 ColumnTransformer(transformers=[('num',\n",
       "                                                  Pipeline(steps=[('imputer',\n",
       "                                                                   SimpleImputer(strategy='median')),\n",
       "                                                                  ('scaler',\n",
       "                                                                   StandardScaler())]),\n",
       "                                                  ['duration', 'total_stops']),\n",
       "                                                 ('cat',\n",
       "                                                  Pipeline(steps=[('imputer',\n",
       "                                                                   SimpleImputer(strategy='most_frequent')),\n",
       "                                                                  ('encoder',\n",
       "                                                                   OneHotEncoder(handle_unknown='ignore',\n",
       "                                                                                 sparse_output=False))]),\n",
       "                                                  ['airline', 'source',\n",
       "                                                   '...\n",
       "                                                                                                         'day_of_month'],\n",
       "                                                                                    format='mixed')),\n",
       "                                                                  ('scaler',\n",
       "                                                                   StandardScaler())]),\n",
       "                                                  ['date_of_journey']),\n",
       "                                                 ('time',\n",
       "                                                  Pipeline(steps=[('imputer',\n",
       "                                                                   SimpleImputer(strategy='most_frequent')),\n",
       "                                                                  ('extractor',\n",
       "                                                                   DatetimeFeatures(features_to_extract=['hour',\n",
       "                                                                                                         'minute'],\n",
       "                                                                                    format='mixed')),\n",
       "                                                                  ('scaler',\n",
       "                                                                   StandardScaler())]),\n",
       "                                                  ['dep_time',\n",
       "                                                   'arrival_time'])])),\n",
       "                ('rf', RandomForestRegressor(n_estimators=10))])"
      ]
     },
     "execution_count": 36,
     "metadata": {},
     "output_type": "execute_result"
    }
   ],
   "source": [
    "saved_model = joblib.load(\"model.joblib\")\n",
    "saved_model"
   ]
  },
  {
   "cell_type": "code",
   "execution_count": 37,
   "id": "ad8962dd-04e0-4de7-9827-5f276f21f858",
   "metadata": {},
   "outputs": [
    {
     "data": {
      "text/plain": [
       "0.6336754915179887"
      ]
     },
     "execution_count": 37,
     "metadata": {},
     "output_type": "execute_result"
    }
   ],
   "source": [
    "y_pred = saved_model.predict(X_test)\n",
    "\n",
    "r2_score(y_test, y_pred)"
   ]
  },
  {
   "cell_type": "code",
   "execution_count": null,
   "id": "f184176d-581d-4e14-ae35-94c06137802c",
   "metadata": {},
   "outputs": [],
   "source": []
  }
 ],
 "metadata": {
  "kernelspec": {
   "display_name": "Python 3 (ipykernel)",
   "language": "python",
   "name": "python3"
  },
  "language_info": {
   "codemirror_mode": {
    "name": "ipython",
    "version": 3
   },
   "file_extension": ".py",
   "mimetype": "text/x-python",
   "name": "python",
   "nbconvert_exporter": "python",
   "pygments_lexer": "ipython3",
   "version": "3.11.5"
  }
 },
 "nbformat": 4,
 "nbformat_minor": 5
}
